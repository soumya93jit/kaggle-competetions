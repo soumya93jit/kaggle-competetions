{
 "cells": [
  {
   "cell_type": "code",
   "execution_count": 1,
   "id": "f40f6784",
   "metadata": {
    "_cell_guid": "b1076dfc-b9ad-4769-8c92-a6c4dae69d19",
    "_uuid": "8f2839f25d086af736a60e9eeb907d3b93b6e0e5",
    "execution": {
     "iopub.execute_input": "2023-08-05T14:32:35.160251Z",
     "iopub.status.busy": "2023-08-05T14:32:35.159538Z",
     "iopub.status.idle": "2023-08-05T14:32:37.511585Z",
     "shell.execute_reply": "2023-08-05T14:32:37.509666Z"
    },
    "papermill": {
     "duration": 2.370688,
     "end_time": "2023-08-05T14:32:37.514188",
     "exception": false,
     "start_time": "2023-08-05T14:32:35.143500",
     "status": "completed"
    },
    "tags": []
   },
   "outputs": [
    {
     "name": "stderr",
     "output_type": "stream",
     "text": [
      "/opt/conda/lib/python3.10/site-packages/scipy/__init__.py:146: UserWarning: A NumPy version >=1.16.5 and <1.23.0 is required for this version of SciPy (detected version 1.23.5\n",
      "  warnings.warn(f\"A NumPy version >={np_minversion} and <{np_maxversion}\"\n"
     ]
    },
    {
     "name": "stdout",
     "output_type": "stream",
     "text": [
      "/kaggle/input/titanic/train.csv\n",
      "/kaggle/input/titanic/test.csv\n",
      "/kaggle/input/titanic/gender_submission.csv\n"
     ]
    }
   ],
   "source": [
    "# This Python 3 environment comes with many helpful analytics libraries installed\n",
    "# It is defined by the kaggle/python Docker image: https://github.com/kaggle/docker-python\n",
    "# For example, here's several helpful packages to load\n",
    "\n",
    "import numpy as np # linear algebra\n",
    "import pandas as pd # data processing, CSV file I/O (e.g. pd.read_csv)\n",
    "import warnings\n",
    "# To suppress a specific warning by category (e.g., FutureWarning)\n",
    "warnings.filterwarnings(\"ignore\", category=FutureWarning)\n",
    "\n",
    "import re\n",
    "import seaborn as sns\n",
    "import matplotlib.pyplot as plt\n",
    "from sklearn.model_selection import train_test_split\n",
    "from sklearn.linear_model import LogisticRegression\n",
    "from sklearn.tree import DecisionTreeClassifier\n",
    "from sklearn import preprocessing\n",
    "from sklearn import metrics\n",
    "from sklearn.model_selection import GridSearchCV, StratifiedKFold\n",
    "from sklearn.tree import export_graphviz\n",
    "import matplotlib as mp\n",
    "import matplotlib.pyplot as plt\n",
    "import graphviz as gp\n",
    "from sklearn import decomposition as dcp\n",
    "from sklearn.model_selection import train_test_split\n",
    "from sklearn.preprocessing import StandardScaler\n",
    "from sklearn.ensemble import RandomForestClassifier\n",
    "from sklearn.svm import SVC\n",
    "from xgboost import XGBClassifier\n",
    "from sklearn.metrics import accuracy_score, recall_score, roc_auc_score,mean_squared_error, confusion_matrix\n",
    "\n",
    "# Input data files are available in the read-only \"../input/\" directory\n",
    "# For example, running this (by clicking run or pressing Shift+Enter) will list all files under the input directory\n",
    "\n",
    "import os\n",
    "for dirname, _, filenames in os.walk('/kaggle/input'):\n",
    "    for filename in filenames:\n",
    "        print(os.path.join(dirname, filename))\n",
    "\n"
   ]
  },
  {
   "cell_type": "code",
   "execution_count": 2,
   "id": "a6362d77",
   "metadata": {
    "execution": {
     "iopub.execute_input": "2023-08-05T14:32:37.540778Z",
     "iopub.status.busy": "2023-08-05T14:32:37.540304Z",
     "iopub.status.idle": "2023-08-05T14:32:37.607124Z",
     "shell.execute_reply": "2023-08-05T14:32:37.605792Z"
    },
    "papermill": {
     "duration": 0.082968,
     "end_time": "2023-08-05T14:32:37.609673",
     "exception": false,
     "start_time": "2023-08-05T14:32:37.526705",
     "status": "completed"
    },
    "tags": []
   },
   "outputs": [
    {
     "data": {
      "text/html": [
       "<div>\n",
       "<style scoped>\n",
       "    .dataframe tbody tr th:only-of-type {\n",
       "        vertical-align: middle;\n",
       "    }\n",
       "\n",
       "    .dataframe tbody tr th {\n",
       "        vertical-align: top;\n",
       "    }\n",
       "\n",
       "    .dataframe thead th {\n",
       "        text-align: right;\n",
       "    }\n",
       "</style>\n",
       "<table border=\"1\" class=\"dataframe\">\n",
       "  <thead>\n",
       "    <tr style=\"text-align: right;\">\n",
       "      <th></th>\n",
       "      <th>PassengerId</th>\n",
       "      <th>Survived</th>\n",
       "      <th>Pclass</th>\n",
       "      <th>Name</th>\n",
       "      <th>Sex</th>\n",
       "      <th>Age</th>\n",
       "      <th>SibSp</th>\n",
       "      <th>Parch</th>\n",
       "      <th>Ticket</th>\n",
       "      <th>Fare</th>\n",
       "      <th>Cabin</th>\n",
       "      <th>Embarked</th>\n",
       "    </tr>\n",
       "  </thead>\n",
       "  <tbody>\n",
       "    <tr>\n",
       "      <th>0</th>\n",
       "      <td>1</td>\n",
       "      <td>0</td>\n",
       "      <td>3</td>\n",
       "      <td>Braund, Mr. Owen Harris</td>\n",
       "      <td>male</td>\n",
       "      <td>22.0</td>\n",
       "      <td>1</td>\n",
       "      <td>0</td>\n",
       "      <td>A/5 21171</td>\n",
       "      <td>7.2500</td>\n",
       "      <td>NaN</td>\n",
       "      <td>S</td>\n",
       "    </tr>\n",
       "    <tr>\n",
       "      <th>1</th>\n",
       "      <td>2</td>\n",
       "      <td>1</td>\n",
       "      <td>1</td>\n",
       "      <td>Cumings, Mrs. John Bradley (Florence Briggs Th...</td>\n",
       "      <td>female</td>\n",
       "      <td>38.0</td>\n",
       "      <td>1</td>\n",
       "      <td>0</td>\n",
       "      <td>PC 17599</td>\n",
       "      <td>71.2833</td>\n",
       "      <td>C85</td>\n",
       "      <td>C</td>\n",
       "    </tr>\n",
       "    <tr>\n",
       "      <th>2</th>\n",
       "      <td>3</td>\n",
       "      <td>1</td>\n",
       "      <td>3</td>\n",
       "      <td>Heikkinen, Miss. Laina</td>\n",
       "      <td>female</td>\n",
       "      <td>26.0</td>\n",
       "      <td>0</td>\n",
       "      <td>0</td>\n",
       "      <td>STON/O2. 3101282</td>\n",
       "      <td>7.9250</td>\n",
       "      <td>NaN</td>\n",
       "      <td>S</td>\n",
       "    </tr>\n",
       "    <tr>\n",
       "      <th>3</th>\n",
       "      <td>4</td>\n",
       "      <td>1</td>\n",
       "      <td>1</td>\n",
       "      <td>Futrelle, Mrs. Jacques Heath (Lily May Peel)</td>\n",
       "      <td>female</td>\n",
       "      <td>35.0</td>\n",
       "      <td>1</td>\n",
       "      <td>0</td>\n",
       "      <td>113803</td>\n",
       "      <td>53.1000</td>\n",
       "      <td>C123</td>\n",
       "      <td>S</td>\n",
       "    </tr>\n",
       "    <tr>\n",
       "      <th>4</th>\n",
       "      <td>5</td>\n",
       "      <td>0</td>\n",
       "      <td>3</td>\n",
       "      <td>Allen, Mr. William Henry</td>\n",
       "      <td>male</td>\n",
       "      <td>35.0</td>\n",
       "      <td>0</td>\n",
       "      <td>0</td>\n",
       "      <td>373450</td>\n",
       "      <td>8.0500</td>\n",
       "      <td>NaN</td>\n",
       "      <td>S</td>\n",
       "    </tr>\n",
       "  </tbody>\n",
       "</table>\n",
       "</div>"
      ],
      "text/plain": [
       "   PassengerId  Survived  Pclass  \\\n",
       "0            1         0       3   \n",
       "1            2         1       1   \n",
       "2            3         1       3   \n",
       "3            4         1       1   \n",
       "4            5         0       3   \n",
       "\n",
       "                                                Name     Sex   Age  SibSp  \\\n",
       "0                            Braund, Mr. Owen Harris    male  22.0      1   \n",
       "1  Cumings, Mrs. John Bradley (Florence Briggs Th...  female  38.0      1   \n",
       "2                             Heikkinen, Miss. Laina  female  26.0      0   \n",
       "3       Futrelle, Mrs. Jacques Heath (Lily May Peel)  female  35.0      1   \n",
       "4                           Allen, Mr. William Henry    male  35.0      0   \n",
       "\n",
       "   Parch            Ticket     Fare Cabin Embarked  \n",
       "0      0         A/5 21171   7.2500   NaN        S  \n",
       "1      0          PC 17599  71.2833   C85        C  \n",
       "2      0  STON/O2. 3101282   7.9250   NaN        S  \n",
       "3      0            113803  53.1000  C123        S  \n",
       "4      0            373450   8.0500   NaN        S  "
      ]
     },
     "execution_count": 2,
     "metadata": {},
     "output_type": "execute_result"
    }
   ],
   "source": [
    "train_data = pd.read_csv(\"/kaggle/input/titanic/train.csv\")\n",
    "test=pd.read_csv(\"/kaggle/input/titanic/test.csv\")\n",
    "\n",
    "train_data.head()"
   ]
  },
  {
   "cell_type": "code",
   "execution_count": 3,
   "id": "4fa908ce",
   "metadata": {
    "execution": {
     "iopub.execute_input": "2023-08-05T14:32:37.637940Z",
     "iopub.status.busy": "2023-08-05T14:32:37.637407Z",
     "iopub.status.idle": "2023-08-05T14:32:37.647587Z",
     "shell.execute_reply": "2023-08-05T14:32:37.646281Z"
    },
    "papermill": {
     "duration": 0.027619,
     "end_time": "2023-08-05T14:32:37.650167",
     "exception": false,
     "start_time": "2023-08-05T14:32:37.622548",
     "status": "completed"
    },
    "tags": []
   },
   "outputs": [],
   "source": [
    "\n",
    "test_data=pd.read_csv(\"/kaggle/input/titanic/test.csv\")"
   ]
  },
  {
   "cell_type": "code",
   "execution_count": 4,
   "id": "c13913fb",
   "metadata": {
    "execution": {
     "iopub.execute_input": "2023-08-05T14:32:37.680571Z",
     "iopub.status.busy": "2023-08-05T14:32:37.679935Z",
     "iopub.status.idle": "2023-08-05T14:32:37.693657Z",
     "shell.execute_reply": "2023-08-05T14:32:37.692815Z"
    },
    "papermill": {
     "duration": 0.030413,
     "end_time": "2023-08-05T14:32:37.695737",
     "exception": false,
     "start_time": "2023-08-05T14:32:37.665324",
     "status": "completed"
    },
    "tags": []
   },
   "outputs": [
    {
     "data": {
      "text/html": [
       "<div>\n",
       "<style scoped>\n",
       "    .dataframe tbody tr th:only-of-type {\n",
       "        vertical-align: middle;\n",
       "    }\n",
       "\n",
       "    .dataframe tbody tr th {\n",
       "        vertical-align: top;\n",
       "    }\n",
       "\n",
       "    .dataframe thead th {\n",
       "        text-align: right;\n",
       "    }\n",
       "</style>\n",
       "<table border=\"1\" class=\"dataframe\">\n",
       "  <thead>\n",
       "    <tr style=\"text-align: right;\">\n",
       "      <th></th>\n",
       "      <th>PassengerId</th>\n",
       "      <th>Pclass</th>\n",
       "      <th>Name</th>\n",
       "      <th>Sex</th>\n",
       "      <th>Age</th>\n",
       "      <th>SibSp</th>\n",
       "      <th>Parch</th>\n",
       "      <th>Ticket</th>\n",
       "      <th>Fare</th>\n",
       "      <th>Cabin</th>\n",
       "      <th>Embarked</th>\n",
       "    </tr>\n",
       "  </thead>\n",
       "  <tbody>\n",
       "    <tr>\n",
       "      <th>0</th>\n",
       "      <td>892</td>\n",
       "      <td>3</td>\n",
       "      <td>Kelly, Mr. James</td>\n",
       "      <td>male</td>\n",
       "      <td>34.5</td>\n",
       "      <td>0</td>\n",
       "      <td>0</td>\n",
       "      <td>330911</td>\n",
       "      <td>7.8292</td>\n",
       "      <td>NaN</td>\n",
       "      <td>Q</td>\n",
       "    </tr>\n",
       "    <tr>\n",
       "      <th>1</th>\n",
       "      <td>893</td>\n",
       "      <td>3</td>\n",
       "      <td>Wilkes, Mrs. James (Ellen Needs)</td>\n",
       "      <td>female</td>\n",
       "      <td>47.0</td>\n",
       "      <td>1</td>\n",
       "      <td>0</td>\n",
       "      <td>363272</td>\n",
       "      <td>7.0000</td>\n",
       "      <td>NaN</td>\n",
       "      <td>S</td>\n",
       "    </tr>\n",
       "    <tr>\n",
       "      <th>2</th>\n",
       "      <td>894</td>\n",
       "      <td>2</td>\n",
       "      <td>Myles, Mr. Thomas Francis</td>\n",
       "      <td>male</td>\n",
       "      <td>62.0</td>\n",
       "      <td>0</td>\n",
       "      <td>0</td>\n",
       "      <td>240276</td>\n",
       "      <td>9.6875</td>\n",
       "      <td>NaN</td>\n",
       "      <td>Q</td>\n",
       "    </tr>\n",
       "    <tr>\n",
       "      <th>3</th>\n",
       "      <td>895</td>\n",
       "      <td>3</td>\n",
       "      <td>Wirz, Mr. Albert</td>\n",
       "      <td>male</td>\n",
       "      <td>27.0</td>\n",
       "      <td>0</td>\n",
       "      <td>0</td>\n",
       "      <td>315154</td>\n",
       "      <td>8.6625</td>\n",
       "      <td>NaN</td>\n",
       "      <td>S</td>\n",
       "    </tr>\n",
       "    <tr>\n",
       "      <th>4</th>\n",
       "      <td>896</td>\n",
       "      <td>3</td>\n",
       "      <td>Hirvonen, Mrs. Alexander (Helga E Lindqvist)</td>\n",
       "      <td>female</td>\n",
       "      <td>22.0</td>\n",
       "      <td>1</td>\n",
       "      <td>1</td>\n",
       "      <td>3101298</td>\n",
       "      <td>12.2875</td>\n",
       "      <td>NaN</td>\n",
       "      <td>S</td>\n",
       "    </tr>\n",
       "  </tbody>\n",
       "</table>\n",
       "</div>"
      ],
      "text/plain": [
       "   PassengerId  Pclass                                          Name     Sex  \\\n",
       "0          892       3                              Kelly, Mr. James    male   \n",
       "1          893       3              Wilkes, Mrs. James (Ellen Needs)  female   \n",
       "2          894       2                     Myles, Mr. Thomas Francis    male   \n",
       "3          895       3                              Wirz, Mr. Albert    male   \n",
       "4          896       3  Hirvonen, Mrs. Alexander (Helga E Lindqvist)  female   \n",
       "\n",
       "    Age  SibSp  Parch   Ticket     Fare Cabin Embarked  \n",
       "0  34.5      0      0   330911   7.8292   NaN        Q  \n",
       "1  47.0      1      0   363272   7.0000   NaN        S  \n",
       "2  62.0      0      0   240276   9.6875   NaN        Q  \n",
       "3  27.0      0      0   315154   8.6625   NaN        S  \n",
       "4  22.0      1      1  3101298  12.2875   NaN        S  "
      ]
     },
     "execution_count": 4,
     "metadata": {},
     "output_type": "execute_result"
    }
   ],
   "source": [
    "test.head()"
   ]
  },
  {
   "cell_type": "code",
   "execution_count": 5,
   "id": "7afe14b8",
   "metadata": {
    "execution": {
     "iopub.execute_input": "2023-08-05T14:32:37.723461Z",
     "iopub.status.busy": "2023-08-05T14:32:37.722847Z",
     "iopub.status.idle": "2023-08-05T14:32:37.729608Z",
     "shell.execute_reply": "2023-08-05T14:32:37.728821Z"
    },
    "papermill": {
     "duration": 0.023558,
     "end_time": "2023-08-05T14:32:37.731855",
     "exception": false,
     "start_time": "2023-08-05T14:32:37.708297",
     "status": "completed"
    },
    "tags": []
   },
   "outputs": [],
   "source": [
    "#a function to analyze the problems and features of data\n",
    "\n",
    "def check_data_quality(data):\n",
    "    # Check for duplicate rows\n",
    "    duplicate_rows = data[data.duplicated()]\n",
    "    \n",
    "    # Check for missing values\n",
    "    missing_values = data.isnull().sum()\n",
    "    \n",
    "    # Get data types and missing value status for each column header\n",
    "    column_info = []\n",
    "    for column in data.columns:\n",
    "        column_type = data[column].dtype\n",
    "        has_missing_values = missing_values[column] > 0\n",
    "        missing_value_count = missing_values[column]\n",
    "        unique_val_count=len(data[column].unique())\n",
    "        column_info.append((column, column_type, has_missing_values,missing_value_count,unique_val_count))\n",
    "    \n",
    "    # Return the results\n",
    "    if len(duplicate_rows) > 0:\n",
    "        print( \"Duplicate Rows Found:\\n\", duplicate_rows)\n",
    "    else:\n",
    "        print( \"No Duplicate Rows Found.\")\n",
    "    print(\"shape of the data is:\",data.shape)\n",
    "    \n",
    "    return  pd.DataFrame(column_info, columns=[\"Column\", \"Data_Type\", \"Missing_Values\",\"Missing_Count\",\"unique_val_count\"])\n"
   ]
  },
  {
   "cell_type": "code",
   "execution_count": 6,
   "id": "e4165096",
   "metadata": {
    "execution": {
     "iopub.execute_input": "2023-08-05T14:32:37.759594Z",
     "iopub.status.busy": "2023-08-05T14:32:37.759196Z",
     "iopub.status.idle": "2023-08-05T14:32:37.794233Z",
     "shell.execute_reply": "2023-08-05T14:32:37.793353Z"
    },
    "papermill": {
     "duration": 0.051727,
     "end_time": "2023-08-05T14:32:37.796216",
     "exception": false,
     "start_time": "2023-08-05T14:32:37.744489",
     "status": "completed"
    },
    "tags": []
   },
   "outputs": [
    {
     "name": "stdout",
     "output_type": "stream",
     "text": [
      "No Duplicate Rows Found.\n",
      "shape of the data is: (891, 12)\n"
     ]
    },
    {
     "data": {
      "text/html": [
       "<div>\n",
       "<style scoped>\n",
       "    .dataframe tbody tr th:only-of-type {\n",
       "        vertical-align: middle;\n",
       "    }\n",
       "\n",
       "    .dataframe tbody tr th {\n",
       "        vertical-align: top;\n",
       "    }\n",
       "\n",
       "    .dataframe thead th {\n",
       "        text-align: right;\n",
       "    }\n",
       "</style>\n",
       "<table border=\"1\" class=\"dataframe\">\n",
       "  <thead>\n",
       "    <tr style=\"text-align: right;\">\n",
       "      <th></th>\n",
       "      <th>Column</th>\n",
       "      <th>Data_Type</th>\n",
       "      <th>Missing_Values</th>\n",
       "      <th>Missing_Count</th>\n",
       "      <th>unique_val_count</th>\n",
       "    </tr>\n",
       "  </thead>\n",
       "  <tbody>\n",
       "    <tr>\n",
       "      <th>0</th>\n",
       "      <td>PassengerId</td>\n",
       "      <td>int64</td>\n",
       "      <td>False</td>\n",
       "      <td>0</td>\n",
       "      <td>891</td>\n",
       "    </tr>\n",
       "    <tr>\n",
       "      <th>1</th>\n",
       "      <td>Survived</td>\n",
       "      <td>int64</td>\n",
       "      <td>False</td>\n",
       "      <td>0</td>\n",
       "      <td>2</td>\n",
       "    </tr>\n",
       "    <tr>\n",
       "      <th>2</th>\n",
       "      <td>Pclass</td>\n",
       "      <td>int64</td>\n",
       "      <td>False</td>\n",
       "      <td>0</td>\n",
       "      <td>3</td>\n",
       "    </tr>\n",
       "    <tr>\n",
       "      <th>3</th>\n",
       "      <td>Name</td>\n",
       "      <td>object</td>\n",
       "      <td>False</td>\n",
       "      <td>0</td>\n",
       "      <td>891</td>\n",
       "    </tr>\n",
       "    <tr>\n",
       "      <th>4</th>\n",
       "      <td>Sex</td>\n",
       "      <td>object</td>\n",
       "      <td>False</td>\n",
       "      <td>0</td>\n",
       "      <td>2</td>\n",
       "    </tr>\n",
       "    <tr>\n",
       "      <th>5</th>\n",
       "      <td>Age</td>\n",
       "      <td>float64</td>\n",
       "      <td>True</td>\n",
       "      <td>177</td>\n",
       "      <td>89</td>\n",
       "    </tr>\n",
       "    <tr>\n",
       "      <th>6</th>\n",
       "      <td>SibSp</td>\n",
       "      <td>int64</td>\n",
       "      <td>False</td>\n",
       "      <td>0</td>\n",
       "      <td>7</td>\n",
       "    </tr>\n",
       "    <tr>\n",
       "      <th>7</th>\n",
       "      <td>Parch</td>\n",
       "      <td>int64</td>\n",
       "      <td>False</td>\n",
       "      <td>0</td>\n",
       "      <td>7</td>\n",
       "    </tr>\n",
       "    <tr>\n",
       "      <th>8</th>\n",
       "      <td>Ticket</td>\n",
       "      <td>object</td>\n",
       "      <td>False</td>\n",
       "      <td>0</td>\n",
       "      <td>681</td>\n",
       "    </tr>\n",
       "    <tr>\n",
       "      <th>9</th>\n",
       "      <td>Fare</td>\n",
       "      <td>float64</td>\n",
       "      <td>False</td>\n",
       "      <td>0</td>\n",
       "      <td>248</td>\n",
       "    </tr>\n",
       "    <tr>\n",
       "      <th>10</th>\n",
       "      <td>Cabin</td>\n",
       "      <td>object</td>\n",
       "      <td>True</td>\n",
       "      <td>687</td>\n",
       "      <td>148</td>\n",
       "    </tr>\n",
       "    <tr>\n",
       "      <th>11</th>\n",
       "      <td>Embarked</td>\n",
       "      <td>object</td>\n",
       "      <td>True</td>\n",
       "      <td>2</td>\n",
       "      <td>4</td>\n",
       "    </tr>\n",
       "  </tbody>\n",
       "</table>\n",
       "</div>"
      ],
      "text/plain": [
       "         Column Data_Type  Missing_Values  Missing_Count  unique_val_count\n",
       "0   PassengerId     int64           False              0               891\n",
       "1      Survived     int64           False              0                 2\n",
       "2        Pclass     int64           False              0                 3\n",
       "3          Name    object           False              0               891\n",
       "4           Sex    object           False              0                 2\n",
       "5           Age   float64            True            177                89\n",
       "6         SibSp     int64           False              0                 7\n",
       "7         Parch     int64           False              0                 7\n",
       "8        Ticket    object           False              0               681\n",
       "9          Fare   float64           False              0               248\n",
       "10        Cabin    object            True            687               148\n",
       "11     Embarked    object            True              2                 4"
      ]
     },
     "execution_count": 6,
     "metadata": {},
     "output_type": "execute_result"
    }
   ],
   "source": [
    "check_data_quality(train_data)\n"
   ]
  },
  {
   "cell_type": "code",
   "execution_count": 7,
   "id": "56cad1ca",
   "metadata": {
    "execution": {
     "iopub.execute_input": "2023-08-05T14:32:37.825760Z",
     "iopub.status.busy": "2023-08-05T14:32:37.825329Z",
     "iopub.status.idle": "2023-08-05T14:32:37.844316Z",
     "shell.execute_reply": "2023-08-05T14:32:37.843492Z"
    },
    "papermill": {
     "duration": 0.035984,
     "end_time": "2023-08-05T14:32:37.846609",
     "exception": false,
     "start_time": "2023-08-05T14:32:37.810625",
     "status": "completed"
    },
    "tags": []
   },
   "outputs": [
    {
     "name": "stdout",
     "output_type": "stream",
     "text": [
      "No Duplicate Rows Found.\n",
      "shape of the data is: (418, 11)\n"
     ]
    },
    {
     "data": {
      "text/html": [
       "<div>\n",
       "<style scoped>\n",
       "    .dataframe tbody tr th:only-of-type {\n",
       "        vertical-align: middle;\n",
       "    }\n",
       "\n",
       "    .dataframe tbody tr th {\n",
       "        vertical-align: top;\n",
       "    }\n",
       "\n",
       "    .dataframe thead th {\n",
       "        text-align: right;\n",
       "    }\n",
       "</style>\n",
       "<table border=\"1\" class=\"dataframe\">\n",
       "  <thead>\n",
       "    <tr style=\"text-align: right;\">\n",
       "      <th></th>\n",
       "      <th>Column</th>\n",
       "      <th>Data_Type</th>\n",
       "      <th>Missing_Values</th>\n",
       "      <th>Missing_Count</th>\n",
       "      <th>unique_val_count</th>\n",
       "    </tr>\n",
       "  </thead>\n",
       "  <tbody>\n",
       "    <tr>\n",
       "      <th>0</th>\n",
       "      <td>PassengerId</td>\n",
       "      <td>int64</td>\n",
       "      <td>False</td>\n",
       "      <td>0</td>\n",
       "      <td>418</td>\n",
       "    </tr>\n",
       "    <tr>\n",
       "      <th>1</th>\n",
       "      <td>Pclass</td>\n",
       "      <td>int64</td>\n",
       "      <td>False</td>\n",
       "      <td>0</td>\n",
       "      <td>3</td>\n",
       "    </tr>\n",
       "    <tr>\n",
       "      <th>2</th>\n",
       "      <td>Name</td>\n",
       "      <td>object</td>\n",
       "      <td>False</td>\n",
       "      <td>0</td>\n",
       "      <td>418</td>\n",
       "    </tr>\n",
       "    <tr>\n",
       "      <th>3</th>\n",
       "      <td>Sex</td>\n",
       "      <td>object</td>\n",
       "      <td>False</td>\n",
       "      <td>0</td>\n",
       "      <td>2</td>\n",
       "    </tr>\n",
       "    <tr>\n",
       "      <th>4</th>\n",
       "      <td>Age</td>\n",
       "      <td>float64</td>\n",
       "      <td>True</td>\n",
       "      <td>86</td>\n",
       "      <td>80</td>\n",
       "    </tr>\n",
       "    <tr>\n",
       "      <th>5</th>\n",
       "      <td>SibSp</td>\n",
       "      <td>int64</td>\n",
       "      <td>False</td>\n",
       "      <td>0</td>\n",
       "      <td>7</td>\n",
       "    </tr>\n",
       "    <tr>\n",
       "      <th>6</th>\n",
       "      <td>Parch</td>\n",
       "      <td>int64</td>\n",
       "      <td>False</td>\n",
       "      <td>0</td>\n",
       "      <td>8</td>\n",
       "    </tr>\n",
       "    <tr>\n",
       "      <th>7</th>\n",
       "      <td>Ticket</td>\n",
       "      <td>object</td>\n",
       "      <td>False</td>\n",
       "      <td>0</td>\n",
       "      <td>363</td>\n",
       "    </tr>\n",
       "    <tr>\n",
       "      <th>8</th>\n",
       "      <td>Fare</td>\n",
       "      <td>float64</td>\n",
       "      <td>True</td>\n",
       "      <td>1</td>\n",
       "      <td>170</td>\n",
       "    </tr>\n",
       "    <tr>\n",
       "      <th>9</th>\n",
       "      <td>Cabin</td>\n",
       "      <td>object</td>\n",
       "      <td>True</td>\n",
       "      <td>327</td>\n",
       "      <td>77</td>\n",
       "    </tr>\n",
       "    <tr>\n",
       "      <th>10</th>\n",
       "      <td>Embarked</td>\n",
       "      <td>object</td>\n",
       "      <td>False</td>\n",
       "      <td>0</td>\n",
       "      <td>3</td>\n",
       "    </tr>\n",
       "  </tbody>\n",
       "</table>\n",
       "</div>"
      ],
      "text/plain": [
       "         Column Data_Type  Missing_Values  Missing_Count  unique_val_count\n",
       "0   PassengerId     int64           False              0               418\n",
       "1        Pclass     int64           False              0                 3\n",
       "2          Name    object           False              0               418\n",
       "3           Sex    object           False              0                 2\n",
       "4           Age   float64            True             86                80\n",
       "5         SibSp     int64           False              0                 7\n",
       "6         Parch     int64           False              0                 8\n",
       "7        Ticket    object           False              0               363\n",
       "8          Fare   float64            True              1               170\n",
       "9         Cabin    object            True            327                77\n",
       "10     Embarked    object           False              0                 3"
      ]
     },
     "execution_count": 7,
     "metadata": {},
     "output_type": "execute_result"
    }
   ],
   "source": [
    "check_data_quality(test)\n"
   ]
  },
  {
   "cell_type": "code",
   "execution_count": 8,
   "id": "fabfdbf7",
   "metadata": {
    "execution": {
     "iopub.execute_input": "2023-08-05T14:32:37.875632Z",
     "iopub.status.busy": "2023-08-05T14:32:37.875170Z",
     "iopub.status.idle": "2023-08-05T14:32:37.884423Z",
     "shell.execute_reply": "2023-08-05T14:32:37.883444Z"
    },
    "papermill": {
     "duration": 0.026569,
     "end_time": "2023-08-05T14:32:37.886547",
     "exception": false,
     "start_time": "2023-08-05T14:32:37.859978",
     "status": "completed"
    },
    "tags": []
   },
   "outputs": [
    {
     "data": {
      "text/plain": [
       "array(['C85', 'C123', 'E46', 'G6', 'C103', 'D56', 'A6', 'C23 C25 C27',\n",
       "       'B78', 'D33', 'B30', 'C52', 'B28', 'C83', 'F33', 'F G73', 'E31',\n",
       "       'A5', 'D10 D12', 'D26', 'C110', 'B58 B60', 'E101', 'F E69', 'D47',\n",
       "       'B86', 'F2', 'C2', 'E33', 'B19', 'A7', 'C49', 'F4', 'A32', 'B4',\n",
       "       'B80', 'A31', 'D36', 'D15', 'C93', 'C78', 'D35', 'C87', 'B77',\n",
       "       'E67', 'B94', 'C125', 'C99', 'C118', 'D7', 'A19', 'B49', 'D',\n",
       "       'C22 C26', 'C106', 'C65', 'E36', 'C54', 'B57 B59 B63 B66', 'C7',\n",
       "       'E34', 'C32', 'B18', 'C124', 'C91', 'E40', 'T', 'C128', 'D37',\n",
       "       'B35', 'E50', 'C82', 'B96 B98', 'E10', 'E44', 'A34', 'C104',\n",
       "       'C111', 'C92', 'E38', 'D21', 'E12', 'E63', 'A14', 'B37', 'C30',\n",
       "       'D20', 'B79', 'E25', 'D46', 'B73', 'C95', 'B38', 'B39', 'B22',\n",
       "       'C86', 'C70', 'A16', 'C101', 'C68', 'A10', 'E68', 'B41', 'A20',\n",
       "       'D19', 'D50', 'D9', 'A23', 'B50', 'A26', 'D48', 'E58', 'C126',\n",
       "       'B71', 'B51 B53 B55', 'D49', 'B5', 'B20', 'F G63', 'C62 C64',\n",
       "       'E24', 'C90', 'C45', 'E8', 'B101', 'D45', 'C46', 'D30', 'E121',\n",
       "       'D11', 'E77', 'F38', 'B3', 'D6', 'B82 B84', 'D17', 'A36', 'B102',\n",
       "       'B69', 'E49', 'C47', 'D28', 'E17', 'A24', 'C50', 'B42', 'C148'],\n",
       "      dtype=object)"
      ]
     },
     "execution_count": 8,
     "metadata": {},
     "output_type": "execute_result"
    }
   ],
   "source": [
    "train_data[train_data[\"Cabin\"].notnull()][\"Cabin\"].unique()"
   ]
  },
  {
   "cell_type": "code",
   "execution_count": 9,
   "id": "902b839c",
   "metadata": {
    "execution": {
     "iopub.execute_input": "2023-08-05T14:32:37.916392Z",
     "iopub.status.busy": "2023-08-05T14:32:37.915839Z",
     "iopub.status.idle": "2023-08-05T14:32:37.923530Z",
     "shell.execute_reply": "2023-08-05T14:32:37.922663Z"
    },
    "papermill": {
     "duration": 0.025173,
     "end_time": "2023-08-05T14:32:37.925699",
     "exception": false,
     "start_time": "2023-08-05T14:32:37.900526",
     "status": "completed"
    },
    "tags": []
   },
   "outputs": [
    {
     "data": {
      "text/plain": [
       "0             A/5 21171\n",
       "1              PC 17599\n",
       "2      STON/O2. 3101282\n",
       "3                113803\n",
       "4                373450\n",
       "             ...       \n",
       "886              211536\n",
       "887              112053\n",
       "888          W./C. 6607\n",
       "889              111369\n",
       "890              370376\n",
       "Name: Ticket, Length: 891, dtype: object"
      ]
     },
     "execution_count": 9,
     "metadata": {},
     "output_type": "execute_result"
    }
   ],
   "source": [
    "train_data[\"Ticket\"]"
   ]
  },
  {
   "cell_type": "code",
   "execution_count": 10,
   "id": "d0789454",
   "metadata": {
    "execution": {
     "iopub.execute_input": "2023-08-05T14:32:37.956388Z",
     "iopub.status.busy": "2023-08-05T14:32:37.955796Z",
     "iopub.status.idle": "2023-08-05T14:32:37.963665Z",
     "shell.execute_reply": "2023-08-05T14:32:37.962445Z"
    },
    "papermill": {
     "duration": 0.02655,
     "end_time": "2023-08-05T14:32:37.965904",
     "exception": false,
     "start_time": "2023-08-05T14:32:37.939354",
     "status": "completed"
    },
    "tags": []
   },
   "outputs": [
    {
     "data": {
      "text/plain": [
       "0           A/5 21171\n",
       "1            PC 17599\n",
       "2    STON/O2. 3101282\n",
       "3              113803\n",
       "4              373450\n",
       "Name: Ticket, dtype: object"
      ]
     },
     "execution_count": 10,
     "metadata": {},
     "output_type": "execute_result"
    }
   ],
   "source": [
    "train_data[\"Ticket\"].head()"
   ]
  },
  {
   "cell_type": "markdown",
   "id": "58685b21",
   "metadata": {
    "papermill": {
     "duration": 0.014172,
     "end_time": "2023-08-05T14:32:37.993645",
     "exception": false,
     "start_time": "2023-08-05T14:32:37.979473",
     "status": "completed"
    },
    "tags": []
   },
   "source": [
    "Age values may be imputed but cabin has too many missing values and ticket number and passengerID does not add any viaribility so dropping those."
   ]
  },
  {
   "cell_type": "code",
   "execution_count": 11,
   "id": "ab12373e",
   "metadata": {
    "execution": {
     "iopub.execute_input": "2023-08-05T14:32:38.024650Z",
     "iopub.status.busy": "2023-08-05T14:32:38.024251Z",
     "iopub.status.idle": "2023-08-05T14:32:38.032390Z",
     "shell.execute_reply": "2023-08-05T14:32:38.030995Z"
    },
    "papermill": {
     "duration": 0.027085,
     "end_time": "2023-08-05T14:32:38.034896",
     "exception": false,
     "start_time": "2023-08-05T14:32:38.007811",
     "status": "completed"
    },
    "tags": []
   },
   "outputs": [],
   "source": [
    "train=train_data.drop([\"Cabin\",\"Ticket\",\"PassengerId\"], axis=1)\n",
    "test=test.drop([\"Cabin\",\"Ticket\",\"PassengerId\"], axis=1)"
   ]
  },
  {
   "cell_type": "code",
   "execution_count": 12,
   "id": "75f68b8a",
   "metadata": {
    "execution": {
     "iopub.execute_input": "2023-08-05T14:32:38.064200Z",
     "iopub.status.busy": "2023-08-05T14:32:38.063833Z",
     "iopub.status.idle": "2023-08-05T14:32:38.078319Z",
     "shell.execute_reply": "2023-08-05T14:32:38.077131Z"
    },
    "papermill": {
     "duration": 0.031744,
     "end_time": "2023-08-05T14:32:38.080540",
     "exception": false,
     "start_time": "2023-08-05T14:32:38.048796",
     "status": "completed"
    },
    "tags": []
   },
   "outputs": [
    {
     "data": {
      "text/html": [
       "<div>\n",
       "<style scoped>\n",
       "    .dataframe tbody tr th:only-of-type {\n",
       "        vertical-align: middle;\n",
       "    }\n",
       "\n",
       "    .dataframe tbody tr th {\n",
       "        vertical-align: top;\n",
       "    }\n",
       "\n",
       "    .dataframe thead th {\n",
       "        text-align: right;\n",
       "    }\n",
       "</style>\n",
       "<table border=\"1\" class=\"dataframe\">\n",
       "  <thead>\n",
       "    <tr style=\"text-align: right;\">\n",
       "      <th></th>\n",
       "      <th>Survived</th>\n",
       "      <th>Pclass</th>\n",
       "      <th>Name</th>\n",
       "      <th>Sex</th>\n",
       "      <th>Age</th>\n",
       "      <th>SibSp</th>\n",
       "      <th>Parch</th>\n",
       "      <th>Fare</th>\n",
       "      <th>Embarked</th>\n",
       "    </tr>\n",
       "  </thead>\n",
       "  <tbody>\n",
       "    <tr>\n",
       "      <th>0</th>\n",
       "      <td>0</td>\n",
       "      <td>3</td>\n",
       "      <td>Braund, Mr. Owen Harris</td>\n",
       "      <td>male</td>\n",
       "      <td>22.0</td>\n",
       "      <td>1</td>\n",
       "      <td>0</td>\n",
       "      <td>7.2500</td>\n",
       "      <td>S</td>\n",
       "    </tr>\n",
       "    <tr>\n",
       "      <th>1</th>\n",
       "      <td>1</td>\n",
       "      <td>1</td>\n",
       "      <td>Cumings, Mrs. John Bradley (Florence Briggs Th...</td>\n",
       "      <td>female</td>\n",
       "      <td>38.0</td>\n",
       "      <td>1</td>\n",
       "      <td>0</td>\n",
       "      <td>71.2833</td>\n",
       "      <td>C</td>\n",
       "    </tr>\n",
       "    <tr>\n",
       "      <th>2</th>\n",
       "      <td>1</td>\n",
       "      <td>3</td>\n",
       "      <td>Heikkinen, Miss. Laina</td>\n",
       "      <td>female</td>\n",
       "      <td>26.0</td>\n",
       "      <td>0</td>\n",
       "      <td>0</td>\n",
       "      <td>7.9250</td>\n",
       "      <td>S</td>\n",
       "    </tr>\n",
       "    <tr>\n",
       "      <th>3</th>\n",
       "      <td>1</td>\n",
       "      <td>1</td>\n",
       "      <td>Futrelle, Mrs. Jacques Heath (Lily May Peel)</td>\n",
       "      <td>female</td>\n",
       "      <td>35.0</td>\n",
       "      <td>1</td>\n",
       "      <td>0</td>\n",
       "      <td>53.1000</td>\n",
       "      <td>S</td>\n",
       "    </tr>\n",
       "    <tr>\n",
       "      <th>4</th>\n",
       "      <td>0</td>\n",
       "      <td>3</td>\n",
       "      <td>Allen, Mr. William Henry</td>\n",
       "      <td>male</td>\n",
       "      <td>35.0</td>\n",
       "      <td>0</td>\n",
       "      <td>0</td>\n",
       "      <td>8.0500</td>\n",
       "      <td>S</td>\n",
       "    </tr>\n",
       "  </tbody>\n",
       "</table>\n",
       "</div>"
      ],
      "text/plain": [
       "   Survived  Pclass                                               Name  \\\n",
       "0         0       3                            Braund, Mr. Owen Harris   \n",
       "1         1       1  Cumings, Mrs. John Bradley (Florence Briggs Th...   \n",
       "2         1       3                             Heikkinen, Miss. Laina   \n",
       "3         1       1       Futrelle, Mrs. Jacques Heath (Lily May Peel)   \n",
       "4         0       3                           Allen, Mr. William Henry   \n",
       "\n",
       "      Sex   Age  SibSp  Parch     Fare Embarked  \n",
       "0    male  22.0      1      0   7.2500        S  \n",
       "1  female  38.0      1      0  71.2833        C  \n",
       "2  female  26.0      0      0   7.9250        S  \n",
       "3  female  35.0      1      0  53.1000        S  \n",
       "4    male  35.0      0      0   8.0500        S  "
      ]
     },
     "execution_count": 12,
     "metadata": {},
     "output_type": "execute_result"
    }
   ],
   "source": [
    "train.head()"
   ]
  },
  {
   "cell_type": "code",
   "execution_count": 13,
   "id": "6a83be17",
   "metadata": {
    "execution": {
     "iopub.execute_input": "2023-08-05T14:32:38.110610Z",
     "iopub.status.busy": "2023-08-05T14:32:38.110182Z",
     "iopub.status.idle": "2023-08-05T14:32:38.438390Z",
     "shell.execute_reply": "2023-08-05T14:32:38.437312Z"
    },
    "papermill": {
     "duration": 0.346221,
     "end_time": "2023-08-05T14:32:38.441074",
     "exception": false,
     "start_time": "2023-08-05T14:32:38.094853",
     "status": "completed"
    },
    "tags": []
   },
   "outputs": [
    {
     "data": {
      "image/png": "[encoded data removed]",
      "text/plain": [
       "<Figure size 800x600 with 1 Axes>"
      ]
     },
     "metadata": {},
     "output_type": "display_data"
    }
   ],
   "source": [
    "import seaborn as sns\n",
    "import matplotlib.pyplot as plt\n",
    "\n",
    "# sibsp\t# of siblings / spouses aboard the Titanic\t\n",
    "# parch\t# of parents / children aboard the Titanic\t\n",
    "\n",
    "# Create the scatter plot\n",
    "plt.figure(figsize=(8, 6))\n",
    "sns.scatterplot(x=\"Parch\", y=\"SibSp\", data=train_data, hue=\"Survived\", palette=\"coolwarm\")\n",
    "plt.title(\"Parch vs SibSp\")\n",
    "plt.xlabel(\"Parch\")\n",
    "plt.ylabel(\"SibSp\")\n",
    "plt.legend(title=\"Survived\", loc=\"upper right\", labels=[\"Not Survived\", \"Survived\"])\n",
    "plt.show()"
   ]
  },
  {
   "cell_type": "code",
   "execution_count": 14,
   "id": "36e76fab",
   "metadata": {
    "execution": {
     "iopub.execute_input": "2023-08-05T14:32:38.473143Z",
     "iopub.status.busy": "2023-08-05T14:32:38.472198Z",
     "iopub.status.idle": "2023-08-05T14:32:38.490992Z",
     "shell.execute_reply": "2023-08-05T14:32:38.489739Z"
    },
    "papermill": {
     "duration": 0.037983,
     "end_time": "2023-08-05T14:32:38.493466",
     "exception": false,
     "start_time": "2023-08-05T14:32:38.455483",
     "status": "completed"
    },
    "tags": []
   },
   "outputs": [
    {
     "data": {
      "text/html": [
       "<div>\n",
       "<style scoped>\n",
       "    .dataframe tbody tr th:only-of-type {\n",
       "        vertical-align: middle;\n",
       "    }\n",
       "\n",
       "    .dataframe tbody tr th {\n",
       "        vertical-align: top;\n",
       "    }\n",
       "\n",
       "    .dataframe thead th {\n",
       "        text-align: right;\n",
       "    }\n",
       "</style>\n",
       "<table border=\"1\" class=\"dataframe\">\n",
       "  <thead>\n",
       "    <tr style=\"text-align: right;\">\n",
       "      <th></th>\n",
       "      <th>Survived</th>\n",
       "      <th>Pclass</th>\n",
       "      <th>Age</th>\n",
       "      <th>SibSp</th>\n",
       "      <th>Parch</th>\n",
       "      <th>Fare</th>\n",
       "    </tr>\n",
       "  </thead>\n",
       "  <tbody>\n",
       "    <tr>\n",
       "      <th>Survived</th>\n",
       "      <td>1.000000</td>\n",
       "      <td>-0.338481</td>\n",
       "      <td>-0.077221</td>\n",
       "      <td>-0.035322</td>\n",
       "      <td>0.081629</td>\n",
       "      <td>0.257307</td>\n",
       "    </tr>\n",
       "    <tr>\n",
       "      <th>Pclass</th>\n",
       "      <td>-0.338481</td>\n",
       "      <td>1.000000</td>\n",
       "      <td>-0.369226</td>\n",
       "      <td>0.083081</td>\n",
       "      <td>0.018443</td>\n",
       "      <td>-0.549500</td>\n",
       "    </tr>\n",
       "    <tr>\n",
       "      <th>Age</th>\n",
       "      <td>-0.077221</td>\n",
       "      <td>-0.369226</td>\n",
       "      <td>1.000000</td>\n",
       "      <td>-0.308247</td>\n",
       "      <td>-0.189119</td>\n",
       "      <td>0.096067</td>\n",
       "    </tr>\n",
       "    <tr>\n",
       "      <th>SibSp</th>\n",
       "      <td>-0.035322</td>\n",
       "      <td>0.083081</td>\n",
       "      <td>-0.308247</td>\n",
       "      <td>1.000000</td>\n",
       "      <td>0.414838</td>\n",
       "      <td>0.159651</td>\n",
       "    </tr>\n",
       "    <tr>\n",
       "      <th>Parch</th>\n",
       "      <td>0.081629</td>\n",
       "      <td>0.018443</td>\n",
       "      <td>-0.189119</td>\n",
       "      <td>0.414838</td>\n",
       "      <td>1.000000</td>\n",
       "      <td>0.216225</td>\n",
       "    </tr>\n",
       "    <tr>\n",
       "      <th>Fare</th>\n",
       "      <td>0.257307</td>\n",
       "      <td>-0.549500</td>\n",
       "      <td>0.096067</td>\n",
       "      <td>0.159651</td>\n",
       "      <td>0.216225</td>\n",
       "      <td>1.000000</td>\n",
       "    </tr>\n",
       "  </tbody>\n",
       "</table>\n",
       "</div>"
      ],
      "text/plain": [
       "          Survived    Pclass       Age     SibSp     Parch      Fare\n",
       "Survived  1.000000 -0.338481 -0.077221 -0.035322  0.081629  0.257307\n",
       "Pclass   -0.338481  1.000000 -0.369226  0.083081  0.018443 -0.549500\n",
       "Age      -0.077221 -0.369226  1.000000 -0.308247 -0.189119  0.096067\n",
       "SibSp    -0.035322  0.083081 -0.308247  1.000000  0.414838  0.159651\n",
       "Parch     0.081629  0.018443 -0.189119  0.414838  1.000000  0.216225\n",
       "Fare      0.257307 -0.549500  0.096067  0.159651  0.216225  1.000000"
      ]
     },
     "execution_count": 14,
     "metadata": {},
     "output_type": "execute_result"
    }
   ],
   "source": [
    "train.corr()"
   ]
  },
  {
   "cell_type": "markdown",
   "id": "2c55eb42",
   "metadata": {
    "papermill": {
     "duration": 0.014049,
     "end_time": "2023-08-05T14:32:38.521972",
     "exception": false,
     "start_time": "2023-08-05T14:32:38.507923",
     "status": "completed"
    },
    "tags": []
   },
   "source": [
    "Although SibSp and Parch column looks similar and from the above graph and correlation we see inverse relationship, but correlation value is only 0.41, hence keeping both. \n",
    "\n",
    "Using the same logic keeping both of Pclass and Fare"
   ]
  },
  {
   "cell_type": "markdown",
   "id": "51e0ba93",
   "metadata": {
    "papermill": {
     "duration": 0.01402,
     "end_time": "2023-08-05T14:32:38.551060",
     "exception": false,
     "start_time": "2023-08-05T14:32:38.537040",
     "status": "completed"
    },
    "tags": []
   },
   "source": []
  },
  {
   "cell_type": "code",
   "execution_count": 15,
   "id": "65719326",
   "metadata": {
    "execution": {
     "iopub.execute_input": "2023-08-05T14:32:38.582906Z",
     "iopub.status.busy": "2023-08-05T14:32:38.582496Z",
     "iopub.status.idle": "2023-08-05T14:32:38.614945Z",
     "shell.execute_reply": "2023-08-05T14:32:38.613863Z"
    },
    "papermill": {
     "duration": 0.051073,
     "end_time": "2023-08-05T14:32:38.617445",
     "exception": false,
     "start_time": "2023-08-05T14:32:38.566372",
     "status": "completed"
    },
    "tags": []
   },
   "outputs": [
    {
     "data": {
      "text/html": [
       "<div>\n",
       "<style scoped>\n",
       "    .dataframe tbody tr th:only-of-type {\n",
       "        vertical-align: middle;\n",
       "    }\n",
       "\n",
       "    .dataframe tbody tr th {\n",
       "        vertical-align: top;\n",
       "    }\n",
       "\n",
       "    .dataframe thead th {\n",
       "        text-align: right;\n",
       "    }\n",
       "</style>\n",
       "<table border=\"1\" class=\"dataframe\">\n",
       "  <thead>\n",
       "    <tr style=\"text-align: right;\">\n",
       "      <th>Sex</th>\n",
       "      <th>female</th>\n",
       "      <th>male</th>\n",
       "    </tr>\n",
       "    <tr>\n",
       "      <th>Title</th>\n",
       "      <th></th>\n",
       "      <th></th>\n",
       "    </tr>\n",
       "  </thead>\n",
       "  <tbody>\n",
       "    <tr>\n",
       "      <th>Capt</th>\n",
       "      <td>0</td>\n",
       "      <td>1</td>\n",
       "    </tr>\n",
       "    <tr>\n",
       "      <th>Col</th>\n",
       "      <td>0</td>\n",
       "      <td>2</td>\n",
       "    </tr>\n",
       "    <tr>\n",
       "      <th>Countess</th>\n",
       "      <td>1</td>\n",
       "      <td>0</td>\n",
       "    </tr>\n",
       "    <tr>\n",
       "      <th>Don</th>\n",
       "      <td>0</td>\n",
       "      <td>1</td>\n",
       "    </tr>\n",
       "    <tr>\n",
       "      <th>Dr</th>\n",
       "      <td>1</td>\n",
       "      <td>6</td>\n",
       "    </tr>\n",
       "    <tr>\n",
       "      <th>Jonkheer</th>\n",
       "      <td>0</td>\n",
       "      <td>1</td>\n",
       "    </tr>\n",
       "    <tr>\n",
       "      <th>Lady</th>\n",
       "      <td>1</td>\n",
       "      <td>0</td>\n",
       "    </tr>\n",
       "    <tr>\n",
       "      <th>Major</th>\n",
       "      <td>0</td>\n",
       "      <td>2</td>\n",
       "    </tr>\n",
       "    <tr>\n",
       "      <th>Master</th>\n",
       "      <td>0</td>\n",
       "      <td>40</td>\n",
       "    </tr>\n",
       "    <tr>\n",
       "      <th>Miss</th>\n",
       "      <td>182</td>\n",
       "      <td>0</td>\n",
       "    </tr>\n",
       "    <tr>\n",
       "      <th>Mlle</th>\n",
       "      <td>2</td>\n",
       "      <td>0</td>\n",
       "    </tr>\n",
       "    <tr>\n",
       "      <th>Mme</th>\n",
       "      <td>1</td>\n",
       "      <td>0</td>\n",
       "    </tr>\n",
       "    <tr>\n",
       "      <th>Mr</th>\n",
       "      <td>0</td>\n",
       "      <td>517</td>\n",
       "    </tr>\n",
       "    <tr>\n",
       "      <th>Mrs</th>\n",
       "      <td>125</td>\n",
       "      <td>0</td>\n",
       "    </tr>\n",
       "    <tr>\n",
       "      <th>Ms</th>\n",
       "      <td>1</td>\n",
       "      <td>0</td>\n",
       "    </tr>\n",
       "    <tr>\n",
       "      <th>Rev</th>\n",
       "      <td>0</td>\n",
       "      <td>6</td>\n",
       "    </tr>\n",
       "    <tr>\n",
       "      <th>Sir</th>\n",
       "      <td>0</td>\n",
       "      <td>1</td>\n",
       "    </tr>\n",
       "  </tbody>\n",
       "</table>\n",
       "</div>"
      ],
      "text/plain": [
       "Sex       female  male\n",
       "Title                 \n",
       "Capt           0     1\n",
       "Col            0     2\n",
       "Countess       1     0\n",
       "Don            0     1\n",
       "Dr             1     6\n",
       "Jonkheer       0     1\n",
       "Lady           1     0\n",
       "Major          0     2\n",
       "Master         0    40\n",
       "Miss         182     0\n",
       "Mlle           2     0\n",
       "Mme            1     0\n",
       "Mr             0   517\n",
       "Mrs          125     0\n",
       "Ms             1     0\n",
       "Rev            0     6\n",
       "Sir            0     1"
      ]
     },
     "execution_count": 15,
     "metadata": {},
     "output_type": "execute_result"
    }
   ],
   "source": [
    "\n",
    "\n",
    "# Extracting the 'Title' column as shown before\n",
    "train['Title'] = train.Name.str.extract(' ([A-Za-z]+)\\.', expand=False)\n",
    " \n",
    "test['Title'] = test.Name.str.extract(' ([A-Za-z]+)\\.', expand=False)\n",
    "\n",
    "# Using pivot_table to create the same crosstab\n",
    "pd.pivot_table(train, index='Title', columns='Sex', aggfunc='size', fill_value=0)\n"
   ]
  },
  {
   "cell_type": "code",
   "execution_count": 16,
   "id": "156191cb",
   "metadata": {
    "execution": {
     "iopub.execute_input": "2023-08-05T14:32:38.649170Z",
     "iopub.status.busy": "2023-08-05T14:32:38.648791Z",
     "iopub.status.idle": "2023-08-05T14:32:38.674327Z",
     "shell.execute_reply": "2023-08-05T14:32:38.673454Z"
    },
    "papermill": {
     "duration": 0.044391,
     "end_time": "2023-08-05T14:32:38.676611",
     "exception": false,
     "start_time": "2023-08-05T14:32:38.632220",
     "status": "completed"
    },
    "tags": []
   },
   "outputs": [
    {
     "data": {
      "text/html": [
       "<div>\n",
       "<style scoped>\n",
       "    .dataframe tbody tr th:only-of-type {\n",
       "        vertical-align: middle;\n",
       "    }\n",
       "\n",
       "    .dataframe tbody tr th {\n",
       "        vertical-align: top;\n",
       "    }\n",
       "\n",
       "    .dataframe thead th {\n",
       "        text-align: right;\n",
       "    }\n",
       "</style>\n",
       "<table border=\"1\" class=\"dataframe\">\n",
       "  <thead>\n",
       "    <tr style=\"text-align: right;\">\n",
       "      <th></th>\n",
       "      <th>Title</th>\n",
       "      <th>Survived</th>\n",
       "    </tr>\n",
       "  </thead>\n",
       "  <tbody>\n",
       "    <tr>\n",
       "      <th>0</th>\n",
       "      <td>Master</td>\n",
       "      <td>0.575000</td>\n",
       "    </tr>\n",
       "    <tr>\n",
       "      <th>1</th>\n",
       "      <td>Miss</td>\n",
       "      <td>0.702703</td>\n",
       "    </tr>\n",
       "    <tr>\n",
       "      <th>2</th>\n",
       "      <td>Mr</td>\n",
       "      <td>0.156673</td>\n",
       "    </tr>\n",
       "    <tr>\n",
       "      <th>3</th>\n",
       "      <td>Mrs</td>\n",
       "      <td>0.793651</td>\n",
       "    </tr>\n",
       "    <tr>\n",
       "      <th>4</th>\n",
       "      <td>Rare</td>\n",
       "      <td>0.347826</td>\n",
       "    </tr>\n",
       "  </tbody>\n",
       "</table>\n",
       "</div>"
      ],
      "text/plain": [
       "    Title  Survived\n",
       "0  Master  0.575000\n",
       "1    Miss  0.702703\n",
       "2      Mr  0.156673\n",
       "3     Mrs  0.793651\n",
       "4    Rare  0.347826"
      ]
     },
     "execution_count": 16,
     "metadata": {},
     "output_type": "execute_result"
    }
   ],
   "source": [
    "train['Title'] = train['Title'].replace({\n",
    "    'Lady': 'Rare',\n",
    "    'Countess': 'Rare',\n",
    "    'Capt': 'Rare',\n",
    "    'Col': 'Rare',\n",
    "    'Don': 'Rare',\n",
    "    'Dr': 'Rare',\n",
    "    'Major': 'Rare',\n",
    "    'Rev': 'Rare',\n",
    "    'Sir': 'Rare',\n",
    "    'Jonkheer': 'Rare',\n",
    "    'Dona': 'Rare',\n",
    "    'Mlle': 'Miss',#replacing archaic words#\n",
    "    'Ms': 'Miss',\n",
    "    'Mme': 'Mrs'\n",
    "})\n",
    "\n",
    "test['Title']=test['Title'].replace({\n",
    "    'Lady': 'Rare',\n",
    "    'Countess': 'Rare',\n",
    "    'Capt': 'Rare',\n",
    "    'Col': 'Rare',\n",
    "    'Don': 'Rare',\n",
    "    'Dr': 'Rare',\n",
    "    'Major': 'Rare',\n",
    "    'Rev': 'Rare',\n",
    "    'Sir': 'Rare',\n",
    "    'Jonkheer': 'Rare',\n",
    "    'Dona': 'Rare',\n",
    "    'Mlle': 'Miss',#replacing archaic words#\n",
    "    'Ms': 'Miss',\n",
    "    'Mme': 'Mrs'\n",
    "})\n",
    "\n",
    "train[['Title', 'Survived']].groupby('Title', as_index=False).mean()\n"
   ]
  },
  {
   "cell_type": "code",
   "execution_count": 17,
   "id": "c75c01fa",
   "metadata": {
    "execution": {
     "iopub.execute_input": "2023-08-05T14:32:38.709295Z",
     "iopub.status.busy": "2023-08-05T14:32:38.708112Z",
     "iopub.status.idle": "2023-08-05T14:32:38.716457Z",
     "shell.execute_reply": "2023-08-05T14:32:38.715297Z"
    },
    "papermill": {
     "duration": 0.02752,
     "end_time": "2023-08-05T14:32:38.719010",
     "exception": false,
     "start_time": "2023-08-05T14:32:38.691490",
     "status": "completed"
    },
    "tags": []
   },
   "outputs": [],
   "source": [
    "train=train.drop([\"Name\"], axis=1)\n",
    "test=test.drop([\"Name\"], axis=1)"
   ]
  },
  {
   "cell_type": "code",
   "execution_count": 18,
   "id": "c8ce4057",
   "metadata": {
    "execution": {
     "iopub.execute_input": "2023-08-05T14:32:38.751683Z",
     "iopub.status.busy": "2023-08-05T14:32:38.751279Z",
     "iopub.status.idle": "2023-08-05T14:32:38.767355Z",
     "shell.execute_reply": "2023-08-05T14:32:38.765602Z"
    },
    "papermill": {
     "duration": 0.035344,
     "end_time": "2023-08-05T14:32:38.770130",
     "exception": false,
     "start_time": "2023-08-05T14:32:38.734786",
     "status": "completed"
    },
    "tags": []
   },
   "outputs": [
    {
     "data": {
      "text/html": [
       "<div>\n",
       "<style scoped>\n",
       "    .dataframe tbody tr th:only-of-type {\n",
       "        vertical-align: middle;\n",
       "    }\n",
       "\n",
       "    .dataframe tbody tr th {\n",
       "        vertical-align: top;\n",
       "    }\n",
       "\n",
       "    .dataframe thead th {\n",
       "        text-align: right;\n",
       "    }\n",
       "</style>\n",
       "<table border=\"1\" class=\"dataframe\">\n",
       "  <thead>\n",
       "    <tr style=\"text-align: right;\">\n",
       "      <th></th>\n",
       "      <th>Survived</th>\n",
       "      <th>Pclass</th>\n",
       "      <th>Sex</th>\n",
       "      <th>Age</th>\n",
       "      <th>SibSp</th>\n",
       "      <th>Parch</th>\n",
       "      <th>Fare</th>\n",
       "      <th>Embarked</th>\n",
       "      <th>Title</th>\n",
       "    </tr>\n",
       "  </thead>\n",
       "  <tbody>\n",
       "    <tr>\n",
       "      <th>0</th>\n",
       "      <td>0</td>\n",
       "      <td>3</td>\n",
       "      <td>male</td>\n",
       "      <td>22.0</td>\n",
       "      <td>1</td>\n",
       "      <td>0</td>\n",
       "      <td>7.2500</td>\n",
       "      <td>S</td>\n",
       "      <td>Mr</td>\n",
       "    </tr>\n",
       "    <tr>\n",
       "      <th>1</th>\n",
       "      <td>1</td>\n",
       "      <td>1</td>\n",
       "      <td>female</td>\n",
       "      <td>38.0</td>\n",
       "      <td>1</td>\n",
       "      <td>0</td>\n",
       "      <td>71.2833</td>\n",
       "      <td>C</td>\n",
       "      <td>Mrs</td>\n",
       "    </tr>\n",
       "    <tr>\n",
       "      <th>2</th>\n",
       "      <td>1</td>\n",
       "      <td>3</td>\n",
       "      <td>female</td>\n",
       "      <td>26.0</td>\n",
       "      <td>0</td>\n",
       "      <td>0</td>\n",
       "      <td>7.9250</td>\n",
       "      <td>S</td>\n",
       "      <td>Miss</td>\n",
       "    </tr>\n",
       "    <tr>\n",
       "      <th>3</th>\n",
       "      <td>1</td>\n",
       "      <td>1</td>\n",
       "      <td>female</td>\n",
       "      <td>35.0</td>\n",
       "      <td>1</td>\n",
       "      <td>0</td>\n",
       "      <td>53.1000</td>\n",
       "      <td>S</td>\n",
       "      <td>Mrs</td>\n",
       "    </tr>\n",
       "    <tr>\n",
       "      <th>4</th>\n",
       "      <td>0</td>\n",
       "      <td>3</td>\n",
       "      <td>male</td>\n",
       "      <td>35.0</td>\n",
       "      <td>0</td>\n",
       "      <td>0</td>\n",
       "      <td>8.0500</td>\n",
       "      <td>S</td>\n",
       "      <td>Mr</td>\n",
       "    </tr>\n",
       "  </tbody>\n",
       "</table>\n",
       "</div>"
      ],
      "text/plain": [
       "   Survived  Pclass     Sex   Age  SibSp  Parch     Fare Embarked Title\n",
       "0         0       3    male  22.0      1      0   7.2500        S    Mr\n",
       "1         1       1  female  38.0      1      0  71.2833        C   Mrs\n",
       "2         1       3  female  26.0      0      0   7.9250        S  Miss\n",
       "3         1       1  female  35.0      1      0  53.1000        S   Mrs\n",
       "4         0       3    male  35.0      0      0   8.0500        S    Mr"
      ]
     },
     "execution_count": 18,
     "metadata": {},
     "output_type": "execute_result"
    }
   ],
   "source": [
    "train.head()"
   ]
  },
  {
   "cell_type": "code",
   "execution_count": 19,
   "id": "0855bb2d",
   "metadata": {
    "execution": {
     "iopub.execute_input": "2023-08-05T14:32:38.804261Z",
     "iopub.status.busy": "2023-08-05T14:32:38.803224Z",
     "iopub.status.idle": "2023-08-05T14:32:38.817808Z",
     "shell.execute_reply": "2023-08-05T14:32:38.816662Z"
    },
    "papermill": {
     "duration": 0.033511,
     "end_time": "2023-08-05T14:32:38.820310",
     "exception": false,
     "start_time": "2023-08-05T14:32:38.786799",
     "status": "completed"
    },
    "tags": []
   },
   "outputs": [
    {
     "data": {
      "text/html": [
       "<div>\n",
       "<style scoped>\n",
       "    .dataframe tbody tr th:only-of-type {\n",
       "        vertical-align: middle;\n",
       "    }\n",
       "\n",
       "    .dataframe tbody tr th {\n",
       "        vertical-align: top;\n",
       "    }\n",
       "\n",
       "    .dataframe thead th {\n",
       "        text-align: right;\n",
       "    }\n",
       "</style>\n",
       "<table border=\"1\" class=\"dataframe\">\n",
       "  <thead>\n",
       "    <tr style=\"text-align: right;\">\n",
       "      <th></th>\n",
       "      <th>Pclass</th>\n",
       "      <th>Sex</th>\n",
       "      <th>Age</th>\n",
       "      <th>SibSp</th>\n",
       "      <th>Parch</th>\n",
       "      <th>Fare</th>\n",
       "      <th>Embarked</th>\n",
       "      <th>Title</th>\n",
       "    </tr>\n",
       "  </thead>\n",
       "  <tbody>\n",
       "    <tr>\n",
       "      <th>0</th>\n",
       "      <td>3</td>\n",
       "      <td>male</td>\n",
       "      <td>34.5</td>\n",
       "      <td>0</td>\n",
       "      <td>0</td>\n",
       "      <td>7.8292</td>\n",
       "      <td>Q</td>\n",
       "      <td>Mr</td>\n",
       "    </tr>\n",
       "    <tr>\n",
       "      <th>1</th>\n",
       "      <td>3</td>\n",
       "      <td>female</td>\n",
       "      <td>47.0</td>\n",
       "      <td>1</td>\n",
       "      <td>0</td>\n",
       "      <td>7.0000</td>\n",
       "      <td>S</td>\n",
       "      <td>Mrs</td>\n",
       "    </tr>\n",
       "    <tr>\n",
       "      <th>2</th>\n",
       "      <td>2</td>\n",
       "      <td>male</td>\n",
       "      <td>62.0</td>\n",
       "      <td>0</td>\n",
       "      <td>0</td>\n",
       "      <td>9.6875</td>\n",
       "      <td>Q</td>\n",
       "      <td>Mr</td>\n",
       "    </tr>\n",
       "    <tr>\n",
       "      <th>3</th>\n",
       "      <td>3</td>\n",
       "      <td>male</td>\n",
       "      <td>27.0</td>\n",
       "      <td>0</td>\n",
       "      <td>0</td>\n",
       "      <td>8.6625</td>\n",
       "      <td>S</td>\n",
       "      <td>Mr</td>\n",
       "    </tr>\n",
       "    <tr>\n",
       "      <th>4</th>\n",
       "      <td>3</td>\n",
       "      <td>female</td>\n",
       "      <td>22.0</td>\n",
       "      <td>1</td>\n",
       "      <td>1</td>\n",
       "      <td>12.2875</td>\n",
       "      <td>S</td>\n",
       "      <td>Mrs</td>\n",
       "    </tr>\n",
       "  </tbody>\n",
       "</table>\n",
       "</div>"
      ],
      "text/plain": [
       "   Pclass     Sex   Age  SibSp  Parch     Fare Embarked Title\n",
       "0       3    male  34.5      0      0   7.8292        Q    Mr\n",
       "1       3  female  47.0      1      0   7.0000        S   Mrs\n",
       "2       2    male  62.0      0      0   9.6875        Q    Mr\n",
       "3       3    male  27.0      0      0   8.6625        S    Mr\n",
       "4       3  female  22.0      1      1  12.2875        S   Mrs"
      ]
     },
     "execution_count": 19,
     "metadata": {},
     "output_type": "execute_result"
    }
   ],
   "source": [
    "test.head()"
   ]
  },
  {
   "cell_type": "markdown",
   "id": "7b10c25c",
   "metadata": {
    "papermill": {
     "duration": 0.015888,
     "end_time": "2023-08-05T14:32:38.851687",
     "exception": false,
     "start_time": "2023-08-05T14:32:38.835799",
     "status": "completed"
    },
    "tags": []
   },
   "source": [
    "The approach involves using the \"Title\" column, derived from passenger names, to estimate missing \"Age\" values in the Titanic dataset. By grouping passengers based on their \"Title\" and \"Pclass\" (passenger class), the median age within each group is calculated. Missing \"Age\" values are then filled with the corresponding median age, allowing for a more informed and accurate estimation of ages based on similar titles and passenger classes. "
   ]
  },
  {
   "cell_type": "code",
   "execution_count": 20,
   "id": "b44f60ad",
   "metadata": {
    "execution": {
     "iopub.execute_input": "2023-08-05T14:32:38.885326Z",
     "iopub.status.busy": "2023-08-05T14:32:38.884916Z",
     "iopub.status.idle": "2023-08-05T14:32:38.914391Z",
     "shell.execute_reply": "2023-08-05T14:32:38.913218Z"
    },
    "papermill": {
     "duration": 0.048815,
     "end_time": "2023-08-05T14:32:38.916992",
     "exception": false,
     "start_time": "2023-08-05T14:32:38.868177",
     "status": "completed"
    },
    "tags": []
   },
   "outputs": [],
   "source": [
    "train['Age'] =train.groupby(['Title', 'Pclass'])['Age'].apply(lambda x: x.fillna(x.median()))\n",
    "test['Age'] =test.groupby(['Title', 'Pclass'])['Age'].apply(lambda x: x.fillna(x.median()))"
   ]
  },
  {
   "cell_type": "code",
   "execution_count": 21,
   "id": "c315bce1",
   "metadata": {
    "execution": {
     "iopub.execute_input": "2023-08-05T14:32:38.955451Z",
     "iopub.status.busy": "2023-08-05T14:32:38.955037Z",
     "iopub.status.idle": "2023-08-05T14:32:38.966330Z",
     "shell.execute_reply": "2023-08-05T14:32:38.964755Z"
    },
    "papermill": {
     "duration": 0.03263,
     "end_time": "2023-08-05T14:32:38.969061",
     "exception": false,
     "start_time": "2023-08-05T14:32:38.936431",
     "status": "completed"
    },
    "tags": []
   },
   "outputs": [
    {
     "name": "stdout",
     "output_type": "stream",
     "text": [
      "['S' 'C' 'Q' 'N'] ['Q' 'S' 'C']\n"
     ]
    }
   ],
   "source": [
    "train[\"Embarked\"].unique() # We are not going to replace nan but will make it a seperate category \n",
    "#this will preserve vaiability and not add any more bias compared as we already imputed value in the age column\n",
    "# Replace NaN values in \"Embarked\" column with \"N\"\n",
    "train[\"Embarked\"].fillna(\"N\", inplace=True)\n",
    "test[\"Embarked\"].fillna(\"N\", inplace=True)\n",
    "\n",
    "# Verify the unique values in the \"Embarked\" column after replacement\n",
    "print(train[\"Embarked\"].unique(),test[\"Embarked\"].unique())"
   ]
  },
  {
   "cell_type": "code",
   "execution_count": 22,
   "id": "fbc0f2a9",
   "metadata": {
    "execution": {
     "iopub.execute_input": "2023-08-05T14:32:39.003433Z",
     "iopub.status.busy": "2023-08-05T14:32:39.003055Z",
     "iopub.status.idle": "2023-08-05T14:32:39.012295Z",
     "shell.execute_reply": "2023-08-05T14:32:39.011170Z"
    },
    "papermill": {
     "duration": 0.029872,
     "end_time": "2023-08-05T14:32:39.014482",
     "exception": false,
     "start_time": "2023-08-05T14:32:38.984610",
     "status": "completed"
    },
    "tags": []
   },
   "outputs": [
    {
     "data": {
      "text/plain": [
       "['Survived', 'Pclass', 'Age', 'SibSp', 'Parch', 'Fare']"
      ]
     },
     "execution_count": 22,
     "metadata": {},
     "output_type": "execute_result"
    }
   ],
   "source": [
    "# Get DataFrame Column Names of numerical types that we can use later\n",
    "num_cols = list(train.select_dtypes(include=['int64', 'float64' ]).columns)\n",
    "num_cols\n",
    "# we want to use scaler transform on only numeric variables\n",
    "#so 'Survived' is the y variable and it is not usable\n",
    "#'Pclass' is already a category variable"
   ]
  },
  {
   "cell_type": "code",
   "execution_count": 23,
   "id": "5438bbb5",
   "metadata": {
    "execution": {
     "iopub.execute_input": "2023-08-05T14:32:39.049899Z",
     "iopub.status.busy": "2023-08-05T14:32:39.049495Z",
     "iopub.status.idle": "2023-08-05T14:32:39.056202Z",
     "shell.execute_reply": "2023-08-05T14:32:39.055085Z"
    },
    "papermill": {
     "duration": 0.02664,
     "end_time": "2023-08-05T14:32:39.058312",
     "exception": false,
     "start_time": "2023-08-05T14:32:39.031672",
     "status": "completed"
    },
    "tags": []
   },
   "outputs": [
    {
     "data": {
      "text/plain": [
       "['Age', 'SibSp', 'Parch', 'Fare']"
      ]
     },
     "execution_count": 23,
     "metadata": {},
     "output_type": "execute_result"
    }
   ],
   "source": [
    "num_cols=num_cols[2:]\n",
    "num_cols"
   ]
  },
  {
   "cell_type": "code",
   "execution_count": 24,
   "id": "a43ccd38",
   "metadata": {
    "execution": {
     "iopub.execute_input": "2023-08-05T14:32:39.092143Z",
     "iopub.status.busy": "2023-08-05T14:32:39.091771Z",
     "iopub.status.idle": "2023-08-05T14:32:39.116932Z",
     "shell.execute_reply": "2023-08-05T14:32:39.116025Z"
    },
    "papermill": {
     "duration": 0.044347,
     "end_time": "2023-08-05T14:32:39.118991",
     "exception": false,
     "start_time": "2023-08-05T14:32:39.074644",
     "status": "completed"
    },
    "tags": []
   },
   "outputs": [
    {
     "data": {
      "text/html": [
       "<div>\n",
       "<style scoped>\n",
       "    .dataframe tbody tr th:only-of-type {\n",
       "        vertical-align: middle;\n",
       "    }\n",
       "\n",
       "    .dataframe tbody tr th {\n",
       "        vertical-align: top;\n",
       "    }\n",
       "\n",
       "    .dataframe thead th {\n",
       "        text-align: right;\n",
       "    }\n",
       "</style>\n",
       "<table border=\"1\" class=\"dataframe\">\n",
       "  <thead>\n",
       "    <tr style=\"text-align: right;\">\n",
       "      <th></th>\n",
       "      <th>Pclass</th>\n",
       "      <th>Age</th>\n",
       "      <th>SibSp</th>\n",
       "      <th>Parch</th>\n",
       "      <th>Fare</th>\n",
       "      <th>Sex_female</th>\n",
       "      <th>Sex_male</th>\n",
       "      <th>Embarked_C</th>\n",
       "      <th>Embarked_N</th>\n",
       "      <th>Embarked_Q</th>\n",
       "      <th>Embarked_S</th>\n",
       "      <th>Title_Master</th>\n",
       "      <th>Title_Miss</th>\n",
       "      <th>Title_Mr</th>\n",
       "      <th>Title_Mrs</th>\n",
       "      <th>Title_Rare</th>\n",
       "    </tr>\n",
       "  </thead>\n",
       "  <tbody>\n",
       "    <tr>\n",
       "      <th>0</th>\n",
       "      <td>3</td>\n",
       "      <td>22.0</td>\n",
       "      <td>1</td>\n",
       "      <td>0</td>\n",
       "      <td>7.2500</td>\n",
       "      <td>0</td>\n",
       "      <td>1</td>\n",
       "      <td>0</td>\n",
       "      <td>0</td>\n",
       "      <td>0</td>\n",
       "      <td>1</td>\n",
       "      <td>0</td>\n",
       "      <td>0</td>\n",
       "      <td>1</td>\n",
       "      <td>0</td>\n",
       "      <td>0</td>\n",
       "    </tr>\n",
       "    <tr>\n",
       "      <th>1</th>\n",
       "      <td>1</td>\n",
       "      <td>38.0</td>\n",
       "      <td>1</td>\n",
       "      <td>0</td>\n",
       "      <td>71.2833</td>\n",
       "      <td>1</td>\n",
       "      <td>0</td>\n",
       "      <td>1</td>\n",
       "      <td>0</td>\n",
       "      <td>0</td>\n",
       "      <td>0</td>\n",
       "      <td>0</td>\n",
       "      <td>0</td>\n",
       "      <td>0</td>\n",
       "      <td>1</td>\n",
       "      <td>0</td>\n",
       "    </tr>\n",
       "    <tr>\n",
       "      <th>2</th>\n",
       "      <td>3</td>\n",
       "      <td>26.0</td>\n",
       "      <td>0</td>\n",
       "      <td>0</td>\n",
       "      <td>7.9250</td>\n",
       "      <td>1</td>\n",
       "      <td>0</td>\n",
       "      <td>0</td>\n",
       "      <td>0</td>\n",
       "      <td>0</td>\n",
       "      <td>1</td>\n",
       "      <td>0</td>\n",
       "      <td>1</td>\n",
       "      <td>0</td>\n",
       "      <td>0</td>\n",
       "      <td>0</td>\n",
       "    </tr>\n",
       "    <tr>\n",
       "      <th>3</th>\n",
       "      <td>1</td>\n",
       "      <td>35.0</td>\n",
       "      <td>1</td>\n",
       "      <td>0</td>\n",
       "      <td>53.1000</td>\n",
       "      <td>1</td>\n",
       "      <td>0</td>\n",
       "      <td>0</td>\n",
       "      <td>0</td>\n",
       "      <td>0</td>\n",
       "      <td>1</td>\n",
       "      <td>0</td>\n",
       "      <td>0</td>\n",
       "      <td>0</td>\n",
       "      <td>1</td>\n",
       "      <td>0</td>\n",
       "    </tr>\n",
       "    <tr>\n",
       "      <th>4</th>\n",
       "      <td>3</td>\n",
       "      <td>35.0</td>\n",
       "      <td>0</td>\n",
       "      <td>0</td>\n",
       "      <td>8.0500</td>\n",
       "      <td>0</td>\n",
       "      <td>1</td>\n",
       "      <td>0</td>\n",
       "      <td>0</td>\n",
       "      <td>0</td>\n",
       "      <td>1</td>\n",
       "      <td>0</td>\n",
       "      <td>0</td>\n",
       "      <td>1</td>\n",
       "      <td>0</td>\n",
       "      <td>0</td>\n",
       "    </tr>\n",
       "  </tbody>\n",
       "</table>\n",
       "</div>"
      ],
      "text/plain": [
       "   Pclass   Age  SibSp  Parch     Fare  Sex_female  Sex_male  Embarked_C  \\\n",
       "0       3  22.0      1      0   7.2500           0         1           0   \n",
       "1       1  38.0      1      0  71.2833           1         0           1   \n",
       "2       3  26.0      0      0   7.9250           1         0           0   \n",
       "3       1  35.0      1      0  53.1000           1         0           0   \n",
       "4       3  35.0      0      0   8.0500           0         1           0   \n",
       "\n",
       "   Embarked_N  Embarked_Q  Embarked_S  Title_Master  Title_Miss  Title_Mr  \\\n",
       "0           0           0           1             0           0         1   \n",
       "1           0           0           0             0           0         0   \n",
       "2           0           0           1             0           1         0   \n",
       "3           0           0           1             0           0         0   \n",
       "4           0           0           1             0           0         1   \n",
       "\n",
       "   Title_Mrs  Title_Rare  \n",
       "0          0           0  \n",
       "1          1           0  \n",
       "2          0           0  \n",
       "3          1           0  \n",
       "4          0           0  "
      ]
     },
     "execution_count": 24,
     "metadata": {},
     "output_type": "execute_result"
    }
   ],
   "source": [
    "#creating the dependent variable\n",
    "y=train[\"Survived\"] \n",
    "\n",
    "#independent features separated\n",
    "X=train.drop(columns=[\"Survived\"])\n",
    "\n",
    "# get dummies ie. transform the categorical variables with more than two categories into dummy variable for the independent character features\n",
    "X = pd.get_dummies(X)\n",
    "test=pd.get_dummies(test)\n",
    "X.head()"
   ]
  },
  {
   "cell_type": "code",
   "execution_count": 25,
   "id": "455a0fec",
   "metadata": {
    "execution": {
     "iopub.execute_input": "2023-08-05T14:32:39.152094Z",
     "iopub.status.busy": "2023-08-05T14:32:39.151650Z",
     "iopub.status.idle": "2023-08-05T14:32:39.167538Z",
     "shell.execute_reply": "2023-08-05T14:32:39.166383Z"
    },
    "papermill": {
     "duration": 0.03515,
     "end_time": "2023-08-05T14:32:39.169891",
     "exception": false,
     "start_time": "2023-08-05T14:32:39.134741",
     "status": "completed"
    },
    "tags": []
   },
   "outputs": [
    {
     "data": {
      "text/html": [
       "<div>\n",
       "<style scoped>\n",
       "    .dataframe tbody tr th:only-of-type {\n",
       "        vertical-align: middle;\n",
       "    }\n",
       "\n",
       "    .dataframe tbody tr th {\n",
       "        vertical-align: top;\n",
       "    }\n",
       "\n",
       "    .dataframe thead th {\n",
       "        text-align: right;\n",
       "    }\n",
       "</style>\n",
       "<table border=\"1\" class=\"dataframe\">\n",
       "  <thead>\n",
       "    <tr style=\"text-align: right;\">\n",
       "      <th></th>\n",
       "      <th>Pclass</th>\n",
       "      <th>Age</th>\n",
       "      <th>SibSp</th>\n",
       "      <th>Parch</th>\n",
       "      <th>Fare</th>\n",
       "      <th>Sex_female</th>\n",
       "      <th>Sex_male</th>\n",
       "      <th>Embarked_C</th>\n",
       "      <th>Embarked_Q</th>\n",
       "      <th>Embarked_S</th>\n",
       "      <th>Title_Master</th>\n",
       "      <th>Title_Miss</th>\n",
       "      <th>Title_Mr</th>\n",
       "      <th>Title_Mrs</th>\n",
       "      <th>Title_Rare</th>\n",
       "    </tr>\n",
       "  </thead>\n",
       "  <tbody>\n",
       "    <tr>\n",
       "      <th>0</th>\n",
       "      <td>3</td>\n",
       "      <td>34.5</td>\n",
       "      <td>0</td>\n",
       "      <td>0</td>\n",
       "      <td>7.8292</td>\n",
       "      <td>0</td>\n",
       "      <td>1</td>\n",
       "      <td>0</td>\n",
       "      <td>1</td>\n",
       "      <td>0</td>\n",
       "      <td>0</td>\n",
       "      <td>0</td>\n",
       "      <td>1</td>\n",
       "      <td>0</td>\n",
       "      <td>0</td>\n",
       "    </tr>\n",
       "    <tr>\n",
       "      <th>1</th>\n",
       "      <td>3</td>\n",
       "      <td>47.0</td>\n",
       "      <td>1</td>\n",
       "      <td>0</td>\n",
       "      <td>7.0000</td>\n",
       "      <td>1</td>\n",
       "      <td>0</td>\n",
       "      <td>0</td>\n",
       "      <td>0</td>\n",
       "      <td>1</td>\n",
       "      <td>0</td>\n",
       "      <td>0</td>\n",
       "      <td>0</td>\n",
       "      <td>1</td>\n",
       "      <td>0</td>\n",
       "    </tr>\n",
       "    <tr>\n",
       "      <th>2</th>\n",
       "      <td>2</td>\n",
       "      <td>62.0</td>\n",
       "      <td>0</td>\n",
       "      <td>0</td>\n",
       "      <td>9.6875</td>\n",
       "      <td>0</td>\n",
       "      <td>1</td>\n",
       "      <td>0</td>\n",
       "      <td>1</td>\n",
       "      <td>0</td>\n",
       "      <td>0</td>\n",
       "      <td>0</td>\n",
       "      <td>1</td>\n",
       "      <td>0</td>\n",
       "      <td>0</td>\n",
       "    </tr>\n",
       "    <tr>\n",
       "      <th>3</th>\n",
       "      <td>3</td>\n",
       "      <td>27.0</td>\n",
       "      <td>0</td>\n",
       "      <td>0</td>\n",
       "      <td>8.6625</td>\n",
       "      <td>0</td>\n",
       "      <td>1</td>\n",
       "      <td>0</td>\n",
       "      <td>0</td>\n",
       "      <td>1</td>\n",
       "      <td>0</td>\n",
       "      <td>0</td>\n",
       "      <td>1</td>\n",
       "      <td>0</td>\n",
       "      <td>0</td>\n",
       "    </tr>\n",
       "    <tr>\n",
       "      <th>4</th>\n",
       "      <td>3</td>\n",
       "      <td>22.0</td>\n",
       "      <td>1</td>\n",
       "      <td>1</td>\n",
       "      <td>12.2875</td>\n",
       "      <td>1</td>\n",
       "      <td>0</td>\n",
       "      <td>0</td>\n",
       "      <td>0</td>\n",
       "      <td>1</td>\n",
       "      <td>0</td>\n",
       "      <td>0</td>\n",
       "      <td>0</td>\n",
       "      <td>1</td>\n",
       "      <td>0</td>\n",
       "    </tr>\n",
       "  </tbody>\n",
       "</table>\n",
       "</div>"
      ],
      "text/plain": [
       "   Pclass   Age  SibSp  Parch     Fare  Sex_female  Sex_male  Embarked_C  \\\n",
       "0       3  34.5      0      0   7.8292           0         1           0   \n",
       "1       3  47.0      1      0   7.0000           1         0           0   \n",
       "2       2  62.0      0      0   9.6875           0         1           0   \n",
       "3       3  27.0      0      0   8.6625           0         1           0   \n",
       "4       3  22.0      1      1  12.2875           1         0           0   \n",
       "\n",
       "   Embarked_Q  Embarked_S  Title_Master  Title_Miss  Title_Mr  Title_Mrs  \\\n",
       "0           1           0             0           0         1          0   \n",
       "1           0           1             0           0         0          1   \n",
       "2           1           0             0           0         1          0   \n",
       "3           0           1             0           0         1          0   \n",
       "4           0           1             0           0         0          1   \n",
       "\n",
       "   Title_Rare  \n",
       "0           0  \n",
       "1           0  \n",
       "2           0  \n",
       "3           0  \n",
       "4           0  "
      ]
     },
     "execution_count": 25,
     "metadata": {},
     "output_type": "execute_result"
    }
   ],
   "source": [
    "test.head()"
   ]
  },
  {
   "cell_type": "code",
   "execution_count": 26,
   "id": "3cbfe824",
   "metadata": {
    "execution": {
     "iopub.execute_input": "2023-08-05T14:32:39.203800Z",
     "iopub.status.busy": "2023-08-05T14:32:39.203376Z",
     "iopub.status.idle": "2023-08-05T14:32:39.209713Z",
     "shell.execute_reply": "2023-08-05T14:32:39.207919Z"
    },
    "papermill": {
     "duration": 0.026549,
     "end_time": "2023-08-05T14:32:39.212568",
     "exception": false,
     "start_time": "2023-08-05T14:32:39.186019",
     "status": "completed"
    },
    "tags": []
   },
   "outputs": [],
   "source": [
    "# Create a new column \"Embarked_N\" with all values set to 0\n",
    "test.insert(test.columns.get_loc(\"Embarked_C\") + 1, \"Embarked_N\", 0)\n",
    "\n"
   ]
  },
  {
   "cell_type": "code",
   "execution_count": 27,
   "id": "34bc35e8",
   "metadata": {
    "execution": {
     "iopub.execute_input": "2023-08-05T14:32:39.248009Z",
     "iopub.status.busy": "2023-08-05T14:32:39.247261Z",
     "iopub.status.idle": "2023-08-05T14:32:39.263830Z",
     "shell.execute_reply": "2023-08-05T14:32:39.262633Z"
    },
    "papermill": {
     "duration": 0.03679,
     "end_time": "2023-08-05T14:32:39.266130",
     "exception": false,
     "start_time": "2023-08-05T14:32:39.229340",
     "status": "completed"
    },
    "tags": []
   },
   "outputs": [
    {
     "data": {
      "text/html": [
       "<div>\n",
       "<style scoped>\n",
       "    .dataframe tbody tr th:only-of-type {\n",
       "        vertical-align: middle;\n",
       "    }\n",
       "\n",
       "    .dataframe tbody tr th {\n",
       "        vertical-align: top;\n",
       "    }\n",
       "\n",
       "    .dataframe thead th {\n",
       "        text-align: right;\n",
       "    }\n",
       "</style>\n",
       "<table border=\"1\" class=\"dataframe\">\n",
       "  <thead>\n",
       "    <tr style=\"text-align: right;\">\n",
       "      <th></th>\n",
       "      <th>Pclass</th>\n",
       "      <th>Age</th>\n",
       "      <th>SibSp</th>\n",
       "      <th>Parch</th>\n",
       "      <th>Fare</th>\n",
       "      <th>Sex_female</th>\n",
       "      <th>Sex_male</th>\n",
       "      <th>Embarked_C</th>\n",
       "      <th>Embarked_N</th>\n",
       "      <th>Embarked_Q</th>\n",
       "      <th>Embarked_S</th>\n",
       "      <th>Title_Master</th>\n",
       "      <th>Title_Miss</th>\n",
       "      <th>Title_Mr</th>\n",
       "      <th>Title_Mrs</th>\n",
       "      <th>Title_Rare</th>\n",
       "    </tr>\n",
       "  </thead>\n",
       "  <tbody>\n",
       "    <tr>\n",
       "      <th>0</th>\n",
       "      <td>3</td>\n",
       "      <td>34.5</td>\n",
       "      <td>0</td>\n",
       "      <td>0</td>\n",
       "      <td>7.8292</td>\n",
       "      <td>0</td>\n",
       "      <td>1</td>\n",
       "      <td>0</td>\n",
       "      <td>0</td>\n",
       "      <td>1</td>\n",
       "      <td>0</td>\n",
       "      <td>0</td>\n",
       "      <td>0</td>\n",
       "      <td>1</td>\n",
       "      <td>0</td>\n",
       "      <td>0</td>\n",
       "    </tr>\n",
       "    <tr>\n",
       "      <th>1</th>\n",
       "      <td>3</td>\n",
       "      <td>47.0</td>\n",
       "      <td>1</td>\n",
       "      <td>0</td>\n",
       "      <td>7.0000</td>\n",
       "      <td>1</td>\n",
       "      <td>0</td>\n",
       "      <td>0</td>\n",
       "      <td>0</td>\n",
       "      <td>0</td>\n",
       "      <td>1</td>\n",
       "      <td>0</td>\n",
       "      <td>0</td>\n",
       "      <td>0</td>\n",
       "      <td>1</td>\n",
       "      <td>0</td>\n",
       "    </tr>\n",
       "    <tr>\n",
       "      <th>2</th>\n",
       "      <td>2</td>\n",
       "      <td>62.0</td>\n",
       "      <td>0</td>\n",
       "      <td>0</td>\n",
       "      <td>9.6875</td>\n",
       "      <td>0</td>\n",
       "      <td>1</td>\n",
       "      <td>0</td>\n",
       "      <td>0</td>\n",
       "      <td>1</td>\n",
       "      <td>0</td>\n",
       "      <td>0</td>\n",
       "      <td>0</td>\n",
       "      <td>1</td>\n",
       "      <td>0</td>\n",
       "      <td>0</td>\n",
       "    </tr>\n",
       "    <tr>\n",
       "      <th>3</th>\n",
       "      <td>3</td>\n",
       "      <td>27.0</td>\n",
       "      <td>0</td>\n",
       "      <td>0</td>\n",
       "      <td>8.6625</td>\n",
       "      <td>0</td>\n",
       "      <td>1</td>\n",
       "      <td>0</td>\n",
       "      <td>0</td>\n",
       "      <td>0</td>\n",
       "      <td>1</td>\n",
       "      <td>0</td>\n",
       "      <td>0</td>\n",
       "      <td>1</td>\n",
       "      <td>0</td>\n",
       "      <td>0</td>\n",
       "    </tr>\n",
       "    <tr>\n",
       "      <th>4</th>\n",
       "      <td>3</td>\n",
       "      <td>22.0</td>\n",
       "      <td>1</td>\n",
       "      <td>1</td>\n",
       "      <td>12.2875</td>\n",
       "      <td>1</td>\n",
       "      <td>0</td>\n",
       "      <td>0</td>\n",
       "      <td>0</td>\n",
       "      <td>0</td>\n",
       "      <td>1</td>\n",
       "      <td>0</td>\n",
       "      <td>0</td>\n",
       "      <td>0</td>\n",
       "      <td>1</td>\n",
       "      <td>0</td>\n",
       "    </tr>\n",
       "  </tbody>\n",
       "</table>\n",
       "</div>"
      ],
      "text/plain": [
       "   Pclass   Age  SibSp  Parch     Fare  Sex_female  Sex_male  Embarked_C  \\\n",
       "0       3  34.5      0      0   7.8292           0         1           0   \n",
       "1       3  47.0      1      0   7.0000           1         0           0   \n",
       "2       2  62.0      0      0   9.6875           0         1           0   \n",
       "3       3  27.0      0      0   8.6625           0         1           0   \n",
       "4       3  22.0      1      1  12.2875           1         0           0   \n",
       "\n",
       "   Embarked_N  Embarked_Q  Embarked_S  Title_Master  Title_Miss  Title_Mr  \\\n",
       "0           0           1           0             0           0         1   \n",
       "1           0           0           1             0           0         0   \n",
       "2           0           1           0             0           0         1   \n",
       "3           0           0           1             0           0         1   \n",
       "4           0           0           1             0           0         0   \n",
       "\n",
       "   Title_Mrs  Title_Rare  \n",
       "0          0           0  \n",
       "1          1           0  \n",
       "2          0           0  \n",
       "3          0           0  \n",
       "4          1           0  "
      ]
     },
     "execution_count": 27,
     "metadata": {},
     "output_type": "execute_result"
    }
   ],
   "source": [
    "test.head()"
   ]
  },
  {
   "cell_type": "code",
   "execution_count": 28,
   "id": "b0377b54",
   "metadata": {
    "execution": {
     "iopub.execute_input": "2023-08-05T14:32:39.302143Z",
     "iopub.status.busy": "2023-08-05T14:32:39.301383Z",
     "iopub.status.idle": "2023-08-05T14:32:39.312156Z",
     "shell.execute_reply": "2023-08-05T14:32:39.311033Z"
    },
    "papermill": {
     "duration": 0.031435,
     "end_time": "2023-08-05T14:32:39.314721",
     "exception": false,
     "start_time": "2023-08-05T14:32:39.283286",
     "status": "completed"
    },
    "tags": []
   },
   "outputs": [],
   "source": [
    "#splitting the data\n",
    "\n",
    "X_train, X_validation, y_train, y_validation = train_test_split(X, y, test_size=0.2, random_state=615, stratify=y)\n",
    "# 80:20 split #Using stratify to ensure equal split of classes between train/validation/test datasets\n"
   ]
  },
  {
   "cell_type": "code",
   "execution_count": 29,
   "id": "1098a4f3",
   "metadata": {
    "execution": {
     "iopub.execute_input": "2023-08-05T14:32:39.349108Z",
     "iopub.status.busy": "2023-08-05T14:32:39.348725Z",
     "iopub.status.idle": "2023-08-05T14:32:39.372812Z",
     "shell.execute_reply": "2023-08-05T14:32:39.371671Z"
    },
    "papermill": {
     "duration": 0.044318,
     "end_time": "2023-08-05T14:32:39.375412",
     "exception": false,
     "start_time": "2023-08-05T14:32:39.331094",
     "status": "completed"
    },
    "tags": []
   },
   "outputs": [],
   "source": [
    "#defining the scaler\n",
    "scaler = StandardScaler()\n",
    "\n",
    "#computing parameters\n",
    "scaler.fit(X_train[num_cols])\n",
    "\n",
    "#scaling three sets\n",
    "X_train[num_cols] = scaler.transform(X_train[num_cols])\n",
    "test[num_cols] = scaler.transform(test[num_cols])\n",
    "X_validation[num_cols] = scaler.transform(X_validation[num_cols])"
   ]
  },
  {
   "cell_type": "code",
   "execution_count": 30,
   "id": "e62b658a",
   "metadata": {
    "execution": {
     "iopub.execute_input": "2023-08-05T14:32:39.415656Z",
     "iopub.status.busy": "2023-08-05T14:32:39.415157Z",
     "iopub.status.idle": "2023-08-05T14:32:39.430746Z",
     "shell.execute_reply": "2023-08-05T14:32:39.429151Z"
    },
    "papermill": {
     "duration": 0.041527,
     "end_time": "2023-08-05T14:32:39.435397",
     "exception": false,
     "start_time": "2023-08-05T14:32:39.393870",
     "status": "completed"
    },
    "tags": []
   },
   "outputs": [
    {
     "name": "stdout",
     "output_type": "stream",
     "text": [
      "<class 'pandas.core.frame.DataFrame'>\n",
      "RangeIndex: 418 entries, 0 to 417\n",
      "Data columns (total 16 columns):\n",
      " #   Column        Non-Null Count  Dtype  \n",
      "---  ------        --------------  -----  \n",
      " 0   Pclass        418 non-null    int64  \n",
      " 1   Age           418 non-null    float64\n",
      " 2   SibSp         418 non-null    float64\n",
      " 3   Parch         418 non-null    float64\n",
      " 4   Fare          417 non-null    float64\n",
      " 5   Sex_female    418 non-null    uint8  \n",
      " 6   Sex_male      418 non-null    uint8  \n",
      " 7   Embarked_C    418 non-null    uint8  \n",
      " 8   Embarked_N    418 non-null    int64  \n",
      " 9   Embarked_Q    418 non-null    uint8  \n",
      " 10  Embarked_S    418 non-null    uint8  \n",
      " 11  Title_Master  418 non-null    uint8  \n",
      " 12  Title_Miss    418 non-null    uint8  \n",
      " 13  Title_Mr      418 non-null    uint8  \n",
      " 14  Title_Mrs     418 non-null    uint8  \n",
      " 15  Title_Rare    418 non-null    uint8  \n",
      "dtypes: float64(4), int64(2), uint8(10)\n",
      "memory usage: 23.8 KB\n"
     ]
    }
   ],
   "source": [
    "test.info()"
   ]
  },
  {
   "cell_type": "markdown",
   "id": "e3cf5c9a",
   "metadata": {
    "papermill": {
     "duration": 0.016547,
     "end_time": "2023-08-05T14:32:39.471021",
     "exception": false,
     "start_time": "2023-08-05T14:32:39.454474",
     "status": "completed"
    },
    "tags": []
   },
   "source": [
    "Naive model"
   ]
  },
  {
   "cell_type": "code",
   "execution_count": 31,
   "id": "e5524f7a",
   "metadata": {
    "execution": {
     "iopub.execute_input": "2023-08-05T14:32:39.507082Z",
     "iopub.status.busy": "2023-08-05T14:32:39.506217Z",
     "iopub.status.idle": "2023-08-05T14:32:39.515478Z",
     "shell.execute_reply": "2023-08-05T14:32:39.514448Z"
    },
    "papermill": {
     "duration": 0.029791,
     "end_time": "2023-08-05T14:32:39.517828",
     "exception": false,
     "start_time": "2023-08-05T14:32:39.488037",
     "status": "completed"
    },
    "tags": []
   },
   "outputs": [
    {
     "name": "stdout",
     "output_type": "stream",
     "text": [
      "count    891.000000\n",
      "mean       0.383838\n",
      "std        0.486592\n",
      "min        0.000000\n",
      "25%        0.000000\n",
      "50%        0.000000\n",
      "75%        1.000000\n",
      "max        1.000000\n",
      "Name: Survived, dtype: float64\n"
     ]
    }
   ],
   "source": [
    "# Naive expectation\n",
    "#   What is our survival expectation without any knowledge\n",
    "\n",
    "print(train[\"Survived\"].describe())\n",
    "\n",
    "# in the dataset 1 is survived and 0 is deceased. In our dataset 38% of the population survived\n",
    "# So our naive expectation is that a model with no knowledge would predict that everyone died, and be 62% accurate\n",
    "\n",
    "# See the video from Alan Chalk on Moodle Week 1 where he explains the difference between naive and baseline models"
   ]
  },
  {
   "cell_type": "markdown",
   "id": "ff4e300a",
   "metadata": {
    "papermill": {
     "duration": 0.016941,
     "end_time": "2023-08-05T14:32:39.551898",
     "exception": false,
     "start_time": "2023-08-05T14:32:39.534957",
     "status": "completed"
    },
    "tags": []
   },
   "source": [
    "Before building out the models now, we will define a general function which can be used across all models. We use GridSearch function to determine the best hyperparameters across the models\n"
   ]
  },
  {
   "cell_type": "code",
   "execution_count": 32,
   "id": "6a57ac70",
   "metadata": {
    "execution": {
     "iopub.execute_input": "2023-08-05T14:32:39.589174Z",
     "iopub.status.busy": "2023-08-05T14:32:39.588025Z",
     "iopub.status.idle": "2023-08-05T14:32:39.596168Z",
     "shell.execute_reply": "2023-08-05T14:32:39.594914Z"
    },
    "papermill": {
     "duration": 0.029511,
     "end_time": "2023-08-05T14:32:39.598640",
     "exception": false,
     "start_time": "2023-08-05T14:32:39.569129",
     "status": "completed"
    },
    "tags": []
   },
   "outputs": [],
   "source": [
    "\n",
    "\n",
    "def get_best_model(X_train, y_train, X_validation, y_validation, classifier, param_grid, cv=5):\n",
    "    stratified_cv = StratifiedKFold(n_splits=cv) # as stratified k fold preserves distrribution in all splits of data\n",
    "    grid = GridSearchCV(classifier, param_grid=param_grid, cv=stratified_cv, scoring='recall')\n",
    "    grid.fit(X_train, y_train)\n",
    "    best_model = grid.best_estimator_\n",
    "    print(\"Best parameters: \", grid.best_params_)\n",
    "\n",
    "    # Evaluate the best model on the validation set\n",
    "    val_pred = best_model.predict(X_validation)\n",
    "    val_accuracy = accuracy_score(y_validation, val_pred)\n",
    "    val_recall = recall_score(y_validation, val_pred)\n",
    "    val_roc = roc_auc_score(y_validation, best_model.predict_proba(X_validation)[:, 1])\n",
    "\n",
    "    # print the results\n",
    "\n",
    "    print(\"Validation Accuracy:\", val_accuracy)\n",
    "    print(\"Validation Recall:\", val_recall)\n",
    "    print(\"Validation ROC Score:\", val_roc)\n",
    "\n",
    "    #setting up a dictionary to collect the result parameters\n",
    "    result_dict = {}\n",
    "    result_dict['validation_accuracy'] = val_accuracy\n",
    "    result_dict['validation_recall'] = val_recall\n",
    "    result_dict['validation_roc'] = val_roc\n",
    "\n",
    "    return best_model, result_dict\n",
    "\n"
   ]
  },
  {
   "cell_type": "markdown",
   "id": "2450872f",
   "metadata": {
    "papermill": {
     "duration": 0.01624,
     "end_time": "2023-08-05T14:32:39.632096",
     "exception": false,
     "start_time": "2023-08-05T14:32:39.615856",
     "status": "completed"
    },
    "tags": []
   },
   "source": [
    "# Logistic Regression\n",
    "\n",
    "Using the general function for the logistic regression model to determine the best parameters. The logistics regression is a clear chocie to go first as the dependent variable \"Attrition\" is of binary nature. It is also a simple and interpretable model with linear decision boundary, so it can be a good baseline model."
   ]
  },
  {
   "cell_type": "code",
   "execution_count": 33,
   "id": "418b543f",
   "metadata": {
    "execution": {
     "iopub.execute_input": "2023-08-05T14:32:39.667392Z",
     "iopub.status.busy": "2023-08-05T14:32:39.667010Z",
     "iopub.status.idle": "2023-08-05T14:32:41.047921Z",
     "shell.execute_reply": "2023-08-05T14:32:41.046398Z"
    },
    "papermill": {
     "duration": 1.401911,
     "end_time": "2023-08-05T14:32:41.050469",
     "exception": false,
     "start_time": "2023-08-05T14:32:39.648558",
     "status": "completed"
    },
    "tags": []
   },
   "outputs": [
    {
     "name": "stdout",
     "output_type": "stream",
     "text": [
      "Best parameters:  {'C': 10.0, 'penalty': 'l1'}\n",
      "Validation Accuracy: 0.8212290502793296\n",
      "Validation Recall: 0.6956521739130435\n",
      "Validation ROC Score: 0.8610013175230566\n"
     ]
    }
   ],
   "source": [
    "# Usage:\n",
    "classifier_name = 'Logistic_Regression'\n",
    "logistic_best_model, result = get_best_model(X_train, y_train, X_validation, y_validation, LogisticRegression(solver='liblinear'),\n",
    "                                    param_grid={'C': np.logspace(-3, 3, 7), 'penalty': ['l1', 'l2']},\n",
    "                                    cv=5)\n",
    "\n",
    "# Append the result to a dictionary that stores the classifier results\n",
    "classifier_results = {}\n",
    "classifier_results[classifier_name] = result\n"
   ]
  },
  {
   "cell_type": "markdown",
   "id": "76fffa64",
   "metadata": {
    "papermill": {
     "duration": 0.016168,
     "end_time": "2023-08-05T14:32:41.083125",
     "exception": false,
     "start_time": "2023-08-05T14:32:41.066957",
     "status": "completed"
    },
    "tags": []
   },
   "source": [
    "##  Random Forest\n",
    "\n",
    "We used Random forest over decision tree because of its ensemble nature \n",
    "and also tree based models gives feature importance which can be helpful\n",
    "when dataset have high number of independent features to be dealt with."
   ]
  },
  {
   "cell_type": "code",
   "execution_count": 34,
   "id": "0ad155fc",
   "metadata": {
    "execution": {
     "iopub.execute_input": "2023-08-05T14:32:41.119123Z",
     "iopub.status.busy": "2023-08-05T14:32:41.118405Z",
     "iopub.status.idle": "2023-08-05T14:33:38.613815Z",
     "shell.execute_reply": "2023-08-05T14:33:38.612390Z"
    },
    "papermill": {
     "duration": 57.529632,
     "end_time": "2023-08-05T14:33:38.629290",
     "exception": false,
     "start_time": "2023-08-05T14:32:41.099658",
     "status": "completed"
    },
    "tags": []
   },
   "outputs": [
    {
     "name": "stdout",
     "output_type": "stream",
     "text": [
      "Best parameters:  {'max_depth': 10, 'min_samples_split': 2, 'n_estimators': 200}\n",
      "Validation Accuracy: 0.7988826815642458\n",
      "Validation Recall: 0.6086956521739131\n",
      "Validation ROC Score: 0.8295125164690382\n"
     ]
    }
   ],
   "source": [
    "\n",
    "# Usage example:\n",
    "classifier_name = 'Random_Forest'\n",
    "classifier = RandomForestClassifier()\n",
    "\n",
    "param_grid = {\n",
    "    'n_estimators': [100, 200, 300],\n",
    "    'max_depth': [None, 5, 10],\n",
    "    'min_samples_split': [2, 5, 10]\n",
    "}# defining the required parameter conditions for GridSearch\n",
    "\n",
    "random_forest_best_model, result = get_best_model(X_train, y_train, X_validation, y_validation, classifier, param_grid, cv=5) #using the function\n",
    "classifier_results[classifier_name] = result"
   ]
  },
  {
   "cell_type": "code",
   "execution_count": 35,
   "id": "b9f9349a",
   "metadata": {
    "execution": {
     "iopub.execute_input": "2023-08-05T14:33:38.664511Z",
     "iopub.status.busy": "2023-08-05T14:33:38.664123Z",
     "iopub.status.idle": "2023-08-05T14:33:38.699105Z",
     "shell.execute_reply": "2023-08-05T14:33:38.697874Z"
    },
    "papermill": {
     "duration": 0.056071,
     "end_time": "2023-08-05T14:33:38.701870",
     "exception": false,
     "start_time": "2023-08-05T14:33:38.645799",
     "status": "completed"
    },
    "tags": []
   },
   "outputs": [
    {
     "data": {
      "text/html": [
       "<div>\n",
       "<style scoped>\n",
       "    .dataframe tbody tr th:only-of-type {\n",
       "        vertical-align: middle;\n",
       "    }\n",
       "\n",
       "    .dataframe tbody tr th {\n",
       "        vertical-align: top;\n",
       "    }\n",
       "\n",
       "    .dataframe thead th {\n",
       "        text-align: right;\n",
       "    }\n",
       "</style>\n",
       "<table border=\"1\" class=\"dataframe\">\n",
       "  <thead>\n",
       "    <tr style=\"text-align: right;\">\n",
       "      <th></th>\n",
       "      <th>Feature</th>\n",
       "      <th>Importance</th>\n",
       "    </tr>\n",
       "  </thead>\n",
       "  <tbody>\n",
       "    <tr>\n",
       "      <th>4</th>\n",
       "      <td>Fare</td>\n",
       "      <td>0.199287</td>\n",
       "    </tr>\n",
       "    <tr>\n",
       "      <th>1</th>\n",
       "      <td>Age</td>\n",
       "      <td>0.156926</td>\n",
       "    </tr>\n",
       "    <tr>\n",
       "      <th>13</th>\n",
       "      <td>Title_Mr</td>\n",
       "      <td>0.129987</td>\n",
       "    </tr>\n",
       "    <tr>\n",
       "      <th>6</th>\n",
       "      <td>Sex_male</td>\n",
       "      <td>0.120720</td>\n",
       "    </tr>\n",
       "    <tr>\n",
       "      <th>0</th>\n",
       "      <td>Pclass</td>\n",
       "      <td>0.099856</td>\n",
       "    </tr>\n",
       "  </tbody>\n",
       "</table>\n",
       "</div>"
      ],
      "text/plain": [
       "     Feature  Importance\n",
       "4       Fare    0.199287\n",
       "1        Age    0.156926\n",
       "13  Title_Mr    0.129987\n",
       "6   Sex_male    0.120720\n",
       "0     Pclass    0.099856"
      ]
     },
     "execution_count": 35,
     "metadata": {},
     "output_type": "execute_result"
    }
   ],
   "source": [
    "# Create a DataFrame from feature importances and column names (to see the tabular format representation)\n",
    "feature_importance_df = pd.DataFrame(\n",
    "    {\n",
    "        'Feature': X_train.columns,\n",
    "        'Importance': random_forest_best_model.feature_importances_\n",
    "    }\n",
    ")\n",
    "feature_importance_df = feature_importance_df.sort_values(by='Importance', ascending=False)\n",
    "\n",
    "# Print the DataFrame\n",
    "feature_importance_df.head()"
   ]
  },
  {
   "cell_type": "markdown",
   "id": "3ad7c44e",
   "metadata": {
    "papermill": {
     "duration": 0.017492,
     "end_time": "2023-08-05T14:33:38.737383",
     "exception": false,
     "start_time": "2023-08-05T14:33:38.719891",
     "status": "completed"
    },
    "tags": []
   },
   "source": []
  },
  {
   "cell_type": "markdown",
   "id": "42d1cfc2",
   "metadata": {
    "papermill": {
     "duration": 0.016578,
     "end_time": "2023-08-05T14:33:38.771115",
     "exception": false,
     "start_time": "2023-08-05T14:33:38.754537",
     "status": "completed"
    },
    "tags": []
   },
   "source": [
    "The dataframe above sheds some light into the specially important features in prediting the survival"
   ]
  },
  {
   "cell_type": "markdown",
   "id": "9ba8a480",
   "metadata": {
    "papermill": {
     "duration": 0.017059,
     "end_time": "2023-08-05T14:33:38.806241",
     "exception": false,
     "start_time": "2023-08-05T14:33:38.789182",
     "status": "completed"
    },
    "tags": []
   },
   "source": [
    "####  Support Vector Classifier\n",
    "\n",
    "Along with capability to handle non-linear seperation by \n",
    "mapping the data into a higher-dimensional feature space \n",
    "using kernel functions, SVC performs well even in high-dimensional \n",
    "feature spaces, making it suitable for datasets with a large number \n",
    "of independent variables. SVC's aim to maximize the margin between the decision boundary and the data points also helps in better generalization and improved performance on unseen data (test data in our case)."
   ]
  },
  {
   "cell_type": "code",
   "execution_count": 36,
   "id": "2eaec3ba",
   "metadata": {
    "execution": {
     "iopub.execute_input": "2023-08-05T14:33:38.843285Z",
     "iopub.status.busy": "2023-08-05T14:33:38.842090Z",
     "iopub.status.idle": "2023-08-05T14:33:54.836091Z",
     "shell.execute_reply": "2023-08-05T14:33:54.834753Z"
    },
    "papermill": {
     "duration": 16.015328,
     "end_time": "2023-08-05T14:33:54.838645",
     "exception": false,
     "start_time": "2023-08-05T14:33:38.823317",
     "status": "completed"
    },
    "tags": []
   },
   "outputs": [
    {
     "name": "stdout",
     "output_type": "stream",
     "text": [
      "Best parameters:  {'C': 10, 'gamma': 0.01}\n",
      "Validation Accuracy: 0.8100558659217877\n",
      "Validation Recall: 0.6666666666666666\n",
      "Validation ROC Score: 0.8230566534914362\n"
     ]
    }
   ],
   "source": [
    "# Define the SVC classifier and its parameter grid\n",
    "classifier_name = 'SVC'\n",
    "svc_classifier = SVC(kernel='rbf', random_state=0, probability=True)\n",
    "\n",
    "param_grid_svc = {\n",
    "    'C': [0.001, 0.01, 0.1, 1, 10, 100],\n",
    "    'gamma': [0.001, 0.01, 0.1, 1, 10, 100]\n",
    "}\n",
    "\n",
    "# Get the best SVC model\n",
    "svc_best_model, result = get_best_model(X_train, y_train, X_validation, y_validation, svc_classifier, param_grid_svc, cv=5)\n",
    "\n",
    "\n",
    "\n",
    "\n",
    "# Append the test result to the classifier results dictionary under the same key\n",
    "classifier_results[classifier_name] = result\n"
   ]
  },
  {
   "cell_type": "markdown",
   "id": "ee5559bf",
   "metadata": {
    "papermill": {
     "duration": 0.016558,
     "end_time": "2023-08-05T14:33:54.872778",
     "exception": false,
     "start_time": "2023-08-05T14:33:54.856220",
     "status": "completed"
    },
    "tags": []
   },
   "source": [
    "## XGBoost\n",
    "Choice of XGBoost over gradient boosting i again because of its ensemble nature along with the fact that it capable to handle imbalanced data better than others. "
   ]
  },
  {
   "cell_type": "code",
   "execution_count": 37,
   "id": "1049ed9c",
   "metadata": {
    "execution": {
     "iopub.execute_input": "2023-08-05T14:33:54.908241Z",
     "iopub.status.busy": "2023-08-05T14:33:54.907864Z",
     "iopub.status.idle": "2023-08-05T14:33:54.912807Z",
     "shell.execute_reply": "2023-08-05T14:33:54.911524Z"
    },
    "papermill": {
     "duration": 0.025712,
     "end_time": "2023-08-05T14:33:54.915175",
     "exception": false,
     "start_time": "2023-08-05T14:33:54.889463",
     "status": "completed"
    },
    "tags": []
   },
   "outputs": [],
   "source": [
    "from xgboost import XGBClassifier"
   ]
  },
  {
   "cell_type": "code",
   "execution_count": 38,
   "id": "43453b7a",
   "metadata": {
    "execution": {
     "iopub.execute_input": "2023-08-05T14:33:54.952552Z",
     "iopub.status.busy": "2023-08-05T14:33:54.952131Z",
     "iopub.status.idle": "2023-08-05T14:34:21.856611Z",
     "shell.execute_reply": "2023-08-05T14:34:21.855452Z"
    },
    "papermill": {
     "duration": 26.925826,
     "end_time": "2023-08-05T14:34:21.859198",
     "exception": false,
     "start_time": "2023-08-05T14:33:54.933372",
     "status": "completed"
    },
    "tags": []
   },
   "outputs": [
    {
     "name": "stdout",
     "output_type": "stream",
     "text": [
      "Best parameters:  {'learning_rate': 0.1, 'max_depth': 3, 'n_estimators': 500}\n",
      "Validation Accuracy: 0.7988826815642458\n",
      "Validation Recall: 0.6376811594202898\n",
      "Validation ROC Score: 0.8429512516469039\n"
     ]
    }
   ],
   "source": [
    "# Define the XGBoost classifier and its parameter grid\n",
    "classifier_name = 'XGBoost'\n",
    "\n",
    "xgboost_classifier = XGBClassifier(random_state=0)\n",
    "\n",
    "param_grid = {\n",
    "    'n_estimators': [100, 200, 500],\n",
    "    'learning_rate': [0.01, 0.05, 0.1],\n",
    "    'max_depth': [3, 4, 5]\n",
    "}\n",
    "\n",
    "# Get the best XGBoost model\n",
    "xgboost_best_model, result = get_best_model(X_train, y_train, X_validation, y_validation, xgboost_classifier, param_grid, cv=5)\n",
    "\n",
    "\n",
    "# Append the test result to the classifier results dictionary under the same key\n",
    "classifier_results[classifier_name] = result\n"
   ]
  },
  {
   "cell_type": "code",
   "execution_count": 39,
   "id": "9933dab9",
   "metadata": {
    "execution": {
     "iopub.execute_input": "2023-08-05T14:34:21.896051Z",
     "iopub.status.busy": "2023-08-05T14:34:21.895675Z",
     "iopub.status.idle": "2023-08-05T14:34:21.908027Z",
     "shell.execute_reply": "2023-08-05T14:34:21.906749Z"
    },
    "papermill": {
     "duration": 0.033978,
     "end_time": "2023-08-05T14:34:21.910314",
     "exception": false,
     "start_time": "2023-08-05T14:34:21.876336",
     "status": "completed"
    },
    "tags": []
   },
   "outputs": [
    {
     "data": {
      "text/html": [
       "<div>\n",
       "<style scoped>\n",
       "    .dataframe tbody tr th:only-of-type {\n",
       "        vertical-align: middle;\n",
       "    }\n",
       "\n",
       "    .dataframe tbody tr th {\n",
       "        vertical-align: top;\n",
       "    }\n",
       "\n",
       "    .dataframe thead th {\n",
       "        text-align: right;\n",
       "    }\n",
       "</style>\n",
       "<table border=\"1\" class=\"dataframe\">\n",
       "  <thead>\n",
       "    <tr style=\"text-align: right;\">\n",
       "      <th></th>\n",
       "      <th>validation_accuracy</th>\n",
       "      <th>validation_recall</th>\n",
       "      <th>validation_roc</th>\n",
       "    </tr>\n",
       "  </thead>\n",
       "  <tbody>\n",
       "    <tr>\n",
       "      <th>Logistic_Regression</th>\n",
       "      <td>0.821229</td>\n",
       "      <td>0.695652</td>\n",
       "      <td>0.861001</td>\n",
       "    </tr>\n",
       "    <tr>\n",
       "      <th>Random_Forest</th>\n",
       "      <td>0.798883</td>\n",
       "      <td>0.608696</td>\n",
       "      <td>0.829513</td>\n",
       "    </tr>\n",
       "    <tr>\n",
       "      <th>SVC</th>\n",
       "      <td>0.810056</td>\n",
       "      <td>0.666667</td>\n",
       "      <td>0.823057</td>\n",
       "    </tr>\n",
       "    <tr>\n",
       "      <th>XGBoost</th>\n",
       "      <td>0.798883</td>\n",
       "      <td>0.637681</td>\n",
       "      <td>0.842951</td>\n",
       "    </tr>\n",
       "  </tbody>\n",
       "</table>\n",
       "</div>"
      ],
      "text/plain": [
       "                     validation_accuracy  validation_recall  validation_roc\n",
       "Logistic_Regression             0.821229           0.695652        0.861001\n",
       "Random_Forest                   0.798883           0.608696        0.829513\n",
       "SVC                             0.810056           0.666667        0.823057\n",
       "XGBoost                         0.798883           0.637681        0.842951"
      ]
     },
     "execution_count": 39,
     "metadata": {},
     "output_type": "execute_result"
    }
   ],
   "source": [
    "df_results=(pd.DataFrame(classifier_results)).transpose()\n",
    "df_results"
   ]
  },
  {
   "cell_type": "code",
   "execution_count": 40,
   "id": "e8020057",
   "metadata": {
    "execution": {
     "iopub.execute_input": "2023-08-05T14:34:21.947479Z",
     "iopub.status.busy": "2023-08-05T14:34:21.947097Z",
     "iopub.status.idle": "2023-08-05T14:34:22.200419Z",
     "shell.execute_reply": "2023-08-05T14:34:22.199254Z"
    },
    "papermill": {
     "duration": 0.27567,
     "end_time": "2023-08-05T14:34:22.203209",
     "exception": false,
     "start_time": "2023-08-05T14:34:21.927539",
     "status": "completed"
    },
    "tags": []
   },
   "outputs": [
    {
     "data": {
      "image/png": "[encoded data removed]",
      "text/plain": [
       "<Figure size 1000x600 with 1 Axes>"
      ]
     },
     "metadata": {},
     "output_type": "display_data"
    }
   ],
   "source": [
    "import matplotlib.pyplot as plt\n",
    "import numpy as np\n",
    "\n",
    "# Data\n",
    "models = df_results.index\n",
    "validation_accuracy = df_results['validation_accuracy']\n",
    "validation_recall = df_results['validation_recall']\n",
    "validation_roc = df_results['validation_roc']\n",
    "\n",
    "# Plot the side-by-side bar chart\n",
    "plt.figure(figsize=(10, 6))\n",
    "bar_width = 0.2\n",
    "index = np.arange(len(models))\n",
    "\n",
    "bar1 = plt.bar(index - bar_width, validation_accuracy, bar_width, label='Validation Accuracy', color='skyblue')\n",
    "bar2 = plt.bar(index, validation_recall, bar_width, label='Validation Recall', color='orange')\n",
    "bar3 = plt.bar(index + bar_width, validation_roc, bar_width, label='Validation ROC', color='lightgreen')\n",
    "\n",
    "# Set the labels and title\n",
    "plt.xlabel('Model', fontsize=12)\n",
    "plt.ylabel('Validation Metrics', fontsize=12)\n",
    "plt.title('Validation Metrics for Different Models', fontsize=16)\n",
    "plt.xticks(index, models, rotation=45, ha='right')\n",
    "\n",
    "# Place the legend outside the plot box\n",
    "plt.legend(handles=[bar1, bar2, bar3], labels=['Validation Accuracy', 'Validation Recall', 'Validation ROC'],\n",
    "           bbox_to_anchor=(1.02, 1), loc='upper left')\n",
    "\n",
    "plt.tight_layout()\n",
    "\n",
    "# Display the plot\n",
    "plt.show()\n"
   ]
  },
  {
   "cell_type": "code",
   "execution_count": 41,
   "id": "36bd43d9",
   "metadata": {
    "execution": {
     "iopub.execute_input": "2023-08-05T14:34:22.241887Z",
     "iopub.status.busy": "2023-08-05T14:34:22.241469Z",
     "iopub.status.idle": "2023-08-05T14:34:22.258899Z",
     "shell.execute_reply": "2023-08-05T14:34:22.257657Z"
    },
    "papermill": {
     "duration": 0.040606,
     "end_time": "2023-08-05T14:34:22.261628",
     "exception": false,
     "start_time": "2023-08-05T14:34:22.221022",
     "status": "completed"
    },
    "tags": []
   },
   "outputs": [
    {
     "data": {
      "text/html": [
       "<div>\n",
       "<style scoped>\n",
       "    .dataframe tbody tr th:only-of-type {\n",
       "        vertical-align: middle;\n",
       "    }\n",
       "\n",
       "    .dataframe tbody tr th {\n",
       "        vertical-align: top;\n",
       "    }\n",
       "\n",
       "    .dataframe thead th {\n",
       "        text-align: right;\n",
       "    }\n",
       "</style>\n",
       "<table border=\"1\" class=\"dataframe\">\n",
       "  <thead>\n",
       "    <tr style=\"text-align: right;\">\n",
       "      <th></th>\n",
       "      <th>Pclass</th>\n",
       "      <th>Age</th>\n",
       "      <th>SibSp</th>\n",
       "      <th>Parch</th>\n",
       "      <th>Fare</th>\n",
       "      <th>Sex_female</th>\n",
       "      <th>Sex_male</th>\n",
       "      <th>Embarked_C</th>\n",
       "      <th>Embarked_N</th>\n",
       "      <th>Embarked_Q</th>\n",
       "      <th>Embarked_S</th>\n",
       "      <th>Title_Master</th>\n",
       "      <th>Title_Miss</th>\n",
       "      <th>Title_Mr</th>\n",
       "      <th>Title_Mrs</th>\n",
       "      <th>Title_Rare</th>\n",
       "    </tr>\n",
       "  </thead>\n",
       "  <tbody>\n",
       "    <tr>\n",
       "      <th>0</th>\n",
       "      <td>3</td>\n",
       "      <td>0.411090</td>\n",
       "      <td>-0.474636</td>\n",
       "      <td>-0.479827</td>\n",
       "      <td>-0.530314</td>\n",
       "      <td>0</td>\n",
       "      <td>1</td>\n",
       "      <td>0</td>\n",
       "      <td>0</td>\n",
       "      <td>1</td>\n",
       "      <td>0</td>\n",
       "      <td>0</td>\n",
       "      <td>0</td>\n",
       "      <td>1</td>\n",
       "      <td>0</td>\n",
       "      <td>0</td>\n",
       "    </tr>\n",
       "    <tr>\n",
       "      <th>1</th>\n",
       "      <td>3</td>\n",
       "      <td>1.338361</td>\n",
       "      <td>0.396345</td>\n",
       "      <td>-0.479827</td>\n",
       "      <td>-0.548984</td>\n",
       "      <td>1</td>\n",
       "      <td>0</td>\n",
       "      <td>0</td>\n",
       "      <td>0</td>\n",
       "      <td>0</td>\n",
       "      <td>1</td>\n",
       "      <td>0</td>\n",
       "      <td>0</td>\n",
       "      <td>0</td>\n",
       "      <td>1</td>\n",
       "      <td>0</td>\n",
       "    </tr>\n",
       "    <tr>\n",
       "      <th>2</th>\n",
       "      <td>2</td>\n",
       "      <td>2.451087</td>\n",
       "      <td>-0.474636</td>\n",
       "      <td>-0.479827</td>\n",
       "      <td>-0.488474</td>\n",
       "      <td>0</td>\n",
       "      <td>1</td>\n",
       "      <td>0</td>\n",
       "      <td>0</td>\n",
       "      <td>1</td>\n",
       "      <td>0</td>\n",
       "      <td>0</td>\n",
       "      <td>0</td>\n",
       "      <td>1</td>\n",
       "      <td>0</td>\n",
       "      <td>0</td>\n",
       "    </tr>\n",
       "    <tr>\n",
       "      <th>3</th>\n",
       "      <td>3</td>\n",
       "      <td>-0.145272</td>\n",
       "      <td>-0.474636</td>\n",
       "      <td>-0.479827</td>\n",
       "      <td>-0.511552</td>\n",
       "      <td>0</td>\n",
       "      <td>1</td>\n",
       "      <td>0</td>\n",
       "      <td>0</td>\n",
       "      <td>0</td>\n",
       "      <td>1</td>\n",
       "      <td>0</td>\n",
       "      <td>0</td>\n",
       "      <td>1</td>\n",
       "      <td>0</td>\n",
       "      <td>0</td>\n",
       "    </tr>\n",
       "    <tr>\n",
       "      <th>4</th>\n",
       "      <td>3</td>\n",
       "      <td>-0.516180</td>\n",
       "      <td>0.396345</td>\n",
       "      <td>0.749082</td>\n",
       "      <td>-0.429934</td>\n",
       "      <td>1</td>\n",
       "      <td>0</td>\n",
       "      <td>0</td>\n",
       "      <td>0</td>\n",
       "      <td>0</td>\n",
       "      <td>1</td>\n",
       "      <td>0</td>\n",
       "      <td>0</td>\n",
       "      <td>0</td>\n",
       "      <td>1</td>\n",
       "      <td>0</td>\n",
       "    </tr>\n",
       "  </tbody>\n",
       "</table>\n",
       "</div>"
      ],
      "text/plain": [
       "   Pclass       Age     SibSp     Parch      Fare  Sex_female  Sex_male  \\\n",
       "0       3  0.411090 -0.474636 -0.479827 -0.530314           0         1   \n",
       "1       3  1.338361  0.396345 -0.479827 -0.548984           1         0   \n",
       "2       2  2.451087 -0.474636 -0.479827 -0.488474           0         1   \n",
       "3       3 -0.145272 -0.474636 -0.479827 -0.511552           0         1   \n",
       "4       3 -0.516180  0.396345  0.749082 -0.429934           1         0   \n",
       "\n",
       "   Embarked_C  Embarked_N  Embarked_Q  Embarked_S  Title_Master  Title_Miss  \\\n",
       "0           0           0           1           0             0           0   \n",
       "1           0           0           0           1             0           0   \n",
       "2           0           0           1           0             0           0   \n",
       "3           0           0           0           1             0           0   \n",
       "4           0           0           0           1             0           0   \n",
       "\n",
       "   Title_Mr  Title_Mrs  Title_Rare  \n",
       "0         1          0           0  \n",
       "1         0          1           0  \n",
       "2         1          0           0  \n",
       "3         1          0           0  \n",
       "4         0          1           0  "
      ]
     },
     "execution_count": 41,
     "metadata": {},
     "output_type": "execute_result"
    }
   ],
   "source": [
    "test.head()"
   ]
  },
  {
   "cell_type": "markdown",
   "id": "b7f9ce3a",
   "metadata": {
    "papermill": {
     "duration": 0.018368,
     "end_time": "2023-08-05T14:34:22.298117",
     "exception": false,
     "start_time": "2023-08-05T14:34:22.279749",
     "status": "completed"
    },
    "tags": []
   },
   "source": [
    "We can see that logistics worked best. So we will do the final prediction using that only"
   ]
  },
  {
   "cell_type": "code",
   "execution_count": 42,
   "id": "730fc1b6",
   "metadata": {
    "execution": {
     "iopub.execute_input": "2023-08-05T14:34:22.337526Z",
     "iopub.status.busy": "2023-08-05T14:34:22.337152Z",
     "iopub.status.idle": "2023-08-05T14:34:22.350693Z",
     "shell.execute_reply": "2023-08-05T14:34:22.349094Z"
    },
    "papermill": {
     "duration": 0.035716,
     "end_time": "2023-08-05T14:34:22.352897",
     "exception": false,
     "start_time": "2023-08-05T14:34:22.317181",
     "status": "completed"
    },
    "tags": []
   },
   "outputs": [
    {
     "name": "stdout",
     "output_type": "stream",
     "text": [
      "<class 'pandas.core.frame.DataFrame'>\n",
      "RangeIndex: 418 entries, 0 to 417\n",
      "Data columns (total 16 columns):\n",
      " #   Column        Non-Null Count  Dtype  \n",
      "---  ------        --------------  -----  \n",
      " 0   Pclass        418 non-null    int64  \n",
      " 1   Age           418 non-null    float64\n",
      " 2   SibSp         418 non-null    float64\n",
      " 3   Parch         418 non-null    float64\n",
      " 4   Fare          417 non-null    float64\n",
      " 5   Sex_female    418 non-null    uint8  \n",
      " 6   Sex_male      418 non-null    uint8  \n",
      " 7   Embarked_C    418 non-null    uint8  \n",
      " 8   Embarked_N    418 non-null    int64  \n",
      " 9   Embarked_Q    418 non-null    uint8  \n",
      " 10  Embarked_S    418 non-null    uint8  \n",
      " 11  Title_Master  418 non-null    uint8  \n",
      " 12  Title_Miss    418 non-null    uint8  \n",
      " 13  Title_Mr      418 non-null    uint8  \n",
      " 14  Title_Mrs     418 non-null    uint8  \n",
      " 15  Title_Rare    418 non-null    uint8  \n",
      "dtypes: float64(4), int64(2), uint8(10)\n",
      "memory usage: 23.8 KB\n"
     ]
    }
   ],
   "source": [
    "test.info()"
   ]
  },
  {
   "cell_type": "code",
   "execution_count": 43,
   "id": "bb07d083",
   "metadata": {
    "execution": {
     "iopub.execute_input": "2023-08-05T14:34:22.391913Z",
     "iopub.status.busy": "2023-08-05T14:34:22.391487Z",
     "iopub.status.idle": "2023-08-05T14:34:22.399744Z",
     "shell.execute_reply": "2023-08-05T14:34:22.398559Z"
    },
    "papermill": {
     "duration": 0.030869,
     "end_time": "2023-08-05T14:34:22.402055",
     "exception": false,
     "start_time": "2023-08-05T14:34:22.371186",
     "status": "completed"
    },
    "tags": []
   },
   "outputs": [
    {
     "name": "stdout",
     "output_type": "stream",
     "text": [
      "Fare    1\n",
      "dtype: int64\n"
     ]
    }
   ],
   "source": [
    "# Check for missing values in the test DataFrame\n",
    "missing_values = test.isnull().sum()\n",
    "\n",
    "# Print the columns with missing values (if any)\n",
    "print(missing_values[missing_values > 0])\n"
   ]
  },
  {
   "cell_type": "code",
   "execution_count": 44,
   "id": "dda6bf7f",
   "metadata": {
    "execution": {
     "iopub.execute_input": "2023-08-05T14:34:22.440530Z",
     "iopub.status.busy": "2023-08-05T14:34:22.440158Z",
     "iopub.status.idle": "2023-08-05T14:34:22.470187Z",
     "shell.execute_reply": "2023-08-05T14:34:22.469181Z"
    },
    "papermill": {
     "duration": 0.052268,
     "end_time": "2023-08-05T14:34:22.472612",
     "exception": false,
     "start_time": "2023-08-05T14:34:22.420344",
     "status": "completed"
    },
    "tags": []
   },
   "outputs": [],
   "source": [
    "from sklearn.impute import SimpleImputer\n",
    "\n",
    "# Convert 'nan' strings to actual NaN values\n",
    "test['Fare'] = test['Fare'].replace('nan', np.nan)\n",
    "\n",
    "# Group by \"Pclass\" and calculate the median fare for each passenger class\n",
    "fare_median_by_pclass = test.groupby(\"Pclass\")[\"Fare\"].median()\n",
    "\n",
    "# Function to impute missing \"Fare\" values based on passenger class\n",
    "def impute_fare_by_pclass(row):\n",
    "    if pd.isnull(row[\"Fare\"]):\n",
    "        return fare_median_by_pclass[row[\"Pclass\"]]\n",
    "    else:\n",
    "        return row[\"Fare\"]\n",
    "\n",
    "# Apply the imputation function to fill missing \"Fare\" values\n",
    "test[\"Fare\"] = test.apply(impute_fare_by_pclass, axis=1)\n"
   ]
  },
  {
   "cell_type": "code",
   "execution_count": 45,
   "id": "4402560e",
   "metadata": {
    "execution": {
     "iopub.execute_input": "2023-08-05T14:34:22.511636Z",
     "iopub.status.busy": "2023-08-05T14:34:22.511198Z",
     "iopub.status.idle": "2023-08-05T14:34:22.519340Z",
     "shell.execute_reply": "2023-08-05T14:34:22.518155Z"
    },
    "papermill": {
     "duration": 0.030372,
     "end_time": "2023-08-05T14:34:22.521692",
     "exception": false,
     "start_time": "2023-08-05T14:34:22.491320",
     "status": "completed"
    },
    "tags": []
   },
   "outputs": [],
   "source": [
    "# Get the predictions on test data using logistic_best_model\n",
    "y_test= logistic_best_model.predict(test)\n"
   ]
  },
  {
   "cell_type": "code",
   "execution_count": 46,
   "id": "ea8d38df",
   "metadata": {
    "execution": {
     "iopub.execute_input": "2023-08-05T14:34:22.560364Z",
     "iopub.status.busy": "2023-08-05T14:34:22.559962Z",
     "iopub.status.idle": "2023-08-05T14:34:22.573935Z",
     "shell.execute_reply": "2023-08-05T14:34:22.572515Z"
    },
    "papermill": {
     "duration": 0.035918,
     "end_time": "2023-08-05T14:34:22.576242",
     "exception": false,
     "start_time": "2023-08-05T14:34:22.540324",
     "status": "completed"
    },
    "tags": []
   },
   "outputs": [
    {
     "name": "stdout",
     "output_type": "stream",
     "text": [
      "Your submission was successfully saved!\n"
     ]
    }
   ],
   "source": [
    "output = pd.DataFrame({'PassengerId': test_data.PassengerId, 'Survived': y_test})\n",
    "output.to_csv('submission.csv', index=False)\n",
    "print(\"Your submission was successfully saved!\")"
   ]
  },
  {
   "cell_type": "code",
   "execution_count": null,
   "id": "3393bc06",
   "metadata": {
    "papermill": {
     "duration": 0.017974,
     "end_time": "2023-08-05T14:34:22.612512",
     "exception": false,
     "start_time": "2023-08-05T14:34:22.594538",
     "status": "completed"
    },
    "tags": []
   },
   "outputs": [],
   "source": []
  },
  {
   "cell_type": "code",
   "execution_count": null,
   "id": "99de87bf",
   "metadata": {
    "papermill": {
     "duration": 0.018131,
     "end_time": "2023-08-05T14:34:22.648771",
     "exception": false,
     "start_time": "2023-08-05T14:34:22.630640",
     "status": "completed"
    },
    "tags": []
   },
   "outputs": [],
   "source": []
  }
 ],
 "metadata": {
  "kernelspec": {
   "display_name": "Python 3",
   "language": "python",
   "name": "python3"
  },
  "language_info": {
   "codemirror_mode": {
    "name": "ipython",
    "version": 3
   },
   "file_extension": ".py",
   "mimetype": "text/x-python",
   "name": "python",
   "nbconvert_exporter": "python",
   "pygments_lexer": "ipython3",
   "version": "3.10.10"
  },
  "papermill": {
   "default_parameters": {},
   "duration": 121.207063,
   "end_time": "2023-08-05T14:34:23.689504",
   "environment_variables": {},
   "exception": null,
   "input_path": "__notebook__.ipynb",
   "output_path": "__notebook__.ipynb",
   "parameters": {},
   "start_time": "2023-08-05T14:32:22.482441",
   "version": "2.4.0"
  }
 },
 "nbformat": 4,
 "nbformat_minor": 5
}
